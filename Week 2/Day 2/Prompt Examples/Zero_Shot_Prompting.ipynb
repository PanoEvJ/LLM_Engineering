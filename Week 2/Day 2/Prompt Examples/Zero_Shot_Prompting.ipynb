{
  "cells": [
    {
      "cell_type": "markdown",
      "source": [
        "### Zero-Shot\n",
        "\n",
        "This notebook was authored by [Chris Alexiuk](https://www.linkedin.com/in/csalexiuk/)\n",
        "\n",
        "Let's explore the world of Zero-Shot prompting and all it can do!"
      ],
      "metadata": {
        "id": "UIuhLOcmCdyR"
      }
    },
    {
      "cell_type": "code",
      "source": [
        "!pip install openai cohere tiktoken -q"
      ],
      "metadata": {
        "colab": {
          "base_uri": "https://localhost:8080/"
        },
        "id": "P2y8NcRnD8aa",
        "outputId": "2ecb86f2-bf21-463c-8559-c8e78d1c7810"
      },
      "execution_count": 1,
      "outputs": [
        {
          "output_type": "stream",
          "name": "stdout",
          "text": [
            "\u001b[2K     \u001b[90m━━━━━━━━━━━━━━━━━━━━━━━━━━━━━━━━━━━━━━━━\u001b[0m \u001b[32m220.2/220.2 kB\u001b[0m \u001b[31m3.8 MB/s\u001b[0m eta \u001b[36m0:00:00\u001b[0m\n",
            "\u001b[2K     \u001b[90m━━━━━━━━━━━━━━━━━━━━━━━━━━━━━━━━━━━━━━━━\u001b[0m \u001b[32m48.2/48.2 kB\u001b[0m \u001b[31m5.3 MB/s\u001b[0m eta \u001b[36m0:00:00\u001b[0m\n",
            "\u001b[2K     \u001b[90m━━━━━━━━━━━━━━━━━━━━━━━━━━━━━━━━━━━━━━━━\u001b[0m \u001b[32m2.0/2.0 MB\u001b[0m \u001b[31m32.7 MB/s\u001b[0m eta \u001b[36m0:00:00\u001b[0m\n",
            "\u001b[2K     \u001b[90m━━━━━━━━━━━━━━━━━━━━━━━━━━━━━━━━━━━━━━━━\u001b[0m \u001b[32m75.0/75.0 kB\u001b[0m \u001b[31m6.3 MB/s\u001b[0m eta \u001b[36m0:00:00\u001b[0m\n",
            "\u001b[2K     \u001b[90m━━━━━━━━━━━━━━━━━━━━━━━━━━━━━━━━━━━━━━━━\u001b[0m \u001b[32m2.7/2.7 MB\u001b[0m \u001b[31m65.1 MB/s\u001b[0m eta \u001b[36m0:00:00\u001b[0m\n",
            "\u001b[2K     \u001b[90m━━━━━━━━━━━━━━━━━━━━━━━━━━━━━━━━━━━━━━━━\u001b[0m \u001b[32m76.9/76.9 kB\u001b[0m \u001b[31m6.9 MB/s\u001b[0m eta \u001b[36m0:00:00\u001b[0m\n",
            "\u001b[2K     \u001b[90m━━━━━━━━━━━━━━━━━━━━━━━━━━━━━━━━━━━━━━━━\u001b[0m \u001b[32m58.3/58.3 kB\u001b[0m \u001b[31m4.5 MB/s\u001b[0m eta \u001b[36m0:00:00\u001b[0m\n",
            "\u001b[?25h"
          ]
        }
      ]
    },
    {
      "cell_type": "markdown",
      "source": [
        "### OpenAI Key"
      ],
      "metadata": {
        "id": "jwzSC6pJpORd"
      }
    },
    {
      "cell_type": "code",
      "execution_count": 5,
      "metadata": {
        "id": "tpnsDCfEbsqS",
        "colab": {
          "base_uri": "https://localhost:8080/"
        },
        "outputId": "6062db99-4a1a-4ec7-df33-a95996315def"
      },
      "outputs": [
        {
          "name": "stdout",
          "output_type": "stream",
          "text": [
            "OpenAI API Key:··········\n"
          ]
        }
      ],
      "source": [
        "import os\n",
        "import openai\n",
        "import getpass\n",
        "\n",
        "# set the OPENAI_API_KEY environment variable\n",
        "os.environ[\"OPENAI_API_KEY\"] = getpass.getpass(\"OpenAI API Key:\")"
      ]
    },
    {
      "cell_type": "code",
      "source": [
        "from openai import OpenAI\n",
        "client = OpenAI()"
      ],
      "metadata": {
        "id": "rQw5oRsAJKcm"
      },
      "execution_count": 6,
      "outputs": []
    },
    {
      "cell_type": "markdown",
      "source": [
        "### Prompt Helper Functions\n",
        "\n",
        "These are only meant to display the outputs in a more palatable style - you can call the API directly using the functions as a guide."
      ],
      "metadata": {
        "id": "Btqi64IPpQHn"
      }
    },
    {
      "cell_type": "code",
      "execution_count": 18,
      "metadata": {
        "id": "QSQMFfWKbsqT"
      },
      "outputs": [],
      "source": [
        "from IPython.display import display, Markdown\n",
        "\n",
        "def get_response(messages: list) -> str:\n",
        "  client = OpenAI()\n",
        "  response = client.chat.completions.create(\n",
        "      messages=messages,\n",
        "      model=\"gpt-4-1106-preview\",\n",
        "  )\n",
        "  del client\n",
        "  return response.choices[0].message.content\n",
        "\n",
        "def wrap_prompt(message: str, role: str) -> dict:\n",
        "    return {\"role\": role, \"content\": message}\n",
        "\n",
        "def m_print(message: str) -> str:\n",
        "    display(Markdown(message))"
      ]
    },
    {
      "cell_type": "code",
      "execution_count": 19,
      "metadata": {
        "id": "7aEd_p1sbsqT",
        "outputId": "ece651ec-49a7-431c-8993-3be1e38a2c50",
        "colab": {
          "base_uri": "https://localhost:8080/",
          "height": 163
        }
      },
      "outputs": [
        {
          "output_type": "display_data",
          "data": {
            "text/plain": [
              "<IPython.core.display.Markdown object>"
            ],
            "text/markdown": "To convert Fahrenheit to Celsius, you can use the formula:\n\nC = (F - 32) * 5/9\n\nwhere F is the temperature in degrees Fahrenheit and C is the temperature in degrees Celsius.\n\nPlugging in 80 degrees Fahrenheit, the calculation would be:\n\nC = (80 - 32) * 5/9\nC = (48) * 5/9\nC = 240/9\nC ≈ 26.67\n\nSo, 80 degrees Fahrenheit is approximately 26.67 degrees Celsius."
          },
          "metadata": {}
        }
      ],
      "source": [
        "prompt = wrap_prompt(\"\"\"If the current temperature is 80 degrees F, what is it in C?\"\"\", \"user\")\n",
        "\n",
        "m_print(get_response([prompt]))"
      ]
    },
    {
      "cell_type": "markdown",
      "source": [
        "Nice, that's correct!\n",
        "\n",
        "What if we wanted it in Kelvin?"
      ],
      "metadata": {
        "id": "Ci7pAEGkO_gd"
      }
    },
    {
      "cell_type": "code",
      "source": [
        "prompt = wrap_prompt(\"\"\"If the current temperature is 80 degrees F, what is it in K (Kelvin)?\"\"\", \"user\")\n",
        "\n",
        "m_print(get_response([prompt]))"
      ],
      "metadata": {
        "colab": {
          "base_uri": "https://localhost:8080/",
          "height": 163
        },
        "id": "QI89eB4yFS4k",
        "outputId": "7189d219-fa37-4e77-fb37-3c414678600d"
      },
      "execution_count": 20,
      "outputs": [
        {
          "output_type": "display_data",
          "data": {
            "text/plain": [
              "<IPython.core.display.Markdown object>"
            ],
            "text/markdown": "To convert degrees Fahrenheit to Kelvin, you can follow the steps below:\n\nFirst, convert Fahrenheit to Celsius by subtracting 32 and then dividing by 1.8 (or multiply by 5/9):\n°C = (°F - 32) / 1.8\n\nThen, convert Celsius to Kelvin by adding 273.15:\nK = °C + 273.15\n\nSo, if the current temperature is 80 degrees Fahrenheit, the conversion to Celsius would be:\n°C = (80 - 32) / 1.8\n°C = 48 / 1.8\n°C ≈ 26.67\n\nNow, convert Celsius to Kelvin:\nK = 26.67 + 273.15\nK ≈ 299.82\n\nTherefore, 80 degrees Fahrenheit is approximately 299.82 Kelvin."
          },
          "metadata": {}
        }
      ]
    },
    {
      "cell_type": "markdown",
      "source": [
        "We can get very specific in our prompts and have the LLM perform complex tasks - even tasks it might not have been trained on!\n",
        "\n",
        "Let's look at an example of this."
      ],
      "metadata": {
        "id": "8Jb1Wld2RELh"
      }
    },
    {
      "cell_type": "code",
      "source": [
        "PROMPT_TEMPLATE = \"\"\"\\\n",
        "If Fireball, cast at 3rd level, deals 8d6 damage.\n",
        "\n",
        "What is the average damage of a 3rd level Fireball?\n",
        "\"\"\"\n",
        "\n",
        "prompt = wrap_prompt(PROMPT_TEMPLATE, \"user\")\n",
        "\n",
        "m_print(get_response([prompt]))"
      ],
      "metadata": {
        "colab": {
          "base_uri": "https://localhost:8080/",
          "height": 134
        },
        "id": "sb-3g-RhRS8P",
        "outputId": "45ae46b6-1e69-48a6-f3e6-0e4d1e481f29"
      },
      "execution_count": 21,
      "outputs": [
        {
          "output_type": "display_data",
          "data": {
            "text/plain": [
              "<IPython.core.display.Markdown object>"
            ],
            "text/markdown": "The average damage for any dice roll can be calculated by finding the midpoint of the possible outcomes on each die, which for a d6 (six-sided die) is (1+6)/2 = 3.5. Since Fireball deals 8d6 damage at the 3rd level, you would multiply this average outcome by the number of dice rolled:\n\nAverage damage per d6 = 3.5\nNumber of d6 = 8\n\nAverage total damage = 3.5 * 8 = 28\n\nTherefore, the average damage of a 3rd level Fireball spell is 28 points of damage."
          },
          "metadata": {}
        }
      ]
    },
    {
      "cell_type": "markdown",
      "source": [
        "That is correct, let's make it even more complex!"
      ],
      "metadata": {
        "id": "d99kBnzVRrws"
      }
    },
    {
      "cell_type": "code",
      "source": [
        "PROMPT_TEMPLATE = \"\"\"\\\n",
        "If Fireball, cast at 3rd level, deals 8d6 damage.\n",
        "\n",
        "What is the average damage of a 3rd level Fireball?\n",
        "\n",
        "If Fireball deals 2d6 additional damage per higher spell level - how much average damage does a 6th level Fireball do?\n",
        "\"\"\"\n",
        "\n",
        "prompt = wrap_prompt(PROMPT_TEMPLATE, \"user\")\n",
        "\n",
        "m_print(get_response([prompt]))"
      ],
      "metadata": {
        "colab": {
          "base_uri": "https://localhost:8080/",
          "height": 227
        },
        "id": "-H2kw8xiRupY",
        "outputId": "bacd99af-7a9e-4773-a2bc-cdd7325cc39b"
      },
      "execution_count": 22,
      "outputs": [
        {
          "output_type": "display_data",
          "data": {
            "text/plain": [
              "<IPython.core.display.Markdown object>"
            ],
            "text/markdown": "The average roll of a single six-sided die (d6) is 3.5 because the average of all possible outcomes (1, 2, 3, 4, 5, 6) is (1+2+3+4+5+6)/6 = 21/6 = 3.5.\n\nFor a 3rd level Fireball, which deals 8d6 damage:\n\nAverage damage = Number of dice x Average roll of a d6\nAverage damage = 8d6 x 3.5\nAverage damage = 28\n\nSo, the average damage of a 3rd level Fireball is 28.\n\nFor a higher-level cast of Fireball, the spell gains an additional 2d6 damage for each spell slot level above 3rd. For a 6th level Fireball, that's three levels above 3rd, so the additional damage is 3 x 2d6 = 6d6.\n\nThe total number of dice rolled for a 6th level Fireball would be the 8d6 from the 3rd level casting plus the additional 6d6, totalling 14d6.\n\nAverage damage for a 6th level Fireball = 14 x 3.5\nAverage damage = 49\n\nSo, the average damage for a 6th level Fireball is 49."
          },
          "metadata": {}
        }
      ]
    },
    {
      "cell_type": "markdown",
      "source": [
        "BOOM! Correct!"
      ],
      "metadata": {
        "id": "BlpIWwZZSRce"
      }
    },
    {
      "cell_type": "markdown",
      "source": [
        "### Assignment Portion\n",
        "\n",
        "Create a zero-shot prompt that outputs valid JSON for any use case you desire - use [this](https://jsonlint.com/) tool to verify your response is valid JSON."
      ],
      "metadata": {
        "id": "QLZzABmNQFa0"
      }
    },
    {
      "cell_type": "code",
      "source": [],
      "metadata": {
        "id": "EK2xbXFZQMuS"
      },
      "execution_count": null,
      "outputs": []
    }
  ],
  "metadata": {
    "kernelspec": {
      "display_name": "open_ai",
      "language": "python",
      "name": "python3"
    },
    "language_info": {
      "codemirror_mode": {
        "name": "ipython",
        "version": 3
      },
      "file_extension": ".py",
      "mimetype": "text/x-python",
      "name": "python",
      "nbconvert_exporter": "python",
      "pygments_lexer": "ipython3",
      "version": "3.10.10"
    },
    "orig_nbformat": 4,
    "colab": {
      "provenance": []
    }
  },
  "nbformat": 4,
  "nbformat_minor": 0
}