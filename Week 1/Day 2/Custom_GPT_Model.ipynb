{
  "nbformat": 4,
  "nbformat_minor": 0,
  "metadata": {
    "colab": {
      "provenance": [],
      "collapsed_sections": [
        "eo_QP1ITFfX2"
      ],
      "machine_shape": "hm",
      "gpuType": "T4"
    },
    "kernelspec": {
      "name": "python3",
      "display_name": "Python 3"
    },
    "language_info": {
      "name": "python"
    },
    "accelerator": "GPU"
  },
  "cells": [
    {
      "cell_type": "markdown",
      "source": [
        "# Unsupervised Pre-Training of GPT-Style Model\n",
        "\n",
        "In today's notebook, we'll be working through an example of how to do unsupervised pre-training of a GPT-style model.\n",
        "\n",
        "The base model we'll use is Andrej Karpathy's [nanoGPT](https://github.com/karpathy/nanoGPT).\n",
        "\n",
        "All of the model code can be found in the [`model.py`](https://github.com/karpathy/nanoGPT/blob/master/model.py) file!\n",
        "\n",
        "> NOTE: We will not be leveraging the parallized training strategy in this notebook - you can find all the required code in the provided repository."
      ],
      "metadata": {
        "id": "UWiGVj6njoDn"
      }
    },
    {
      "cell_type": "markdown",
      "source": [
        "## Data Selection\n",
        "\n",
        "For the notebook today, we'll be using a toy dataset called `tinyshakespeare`. Feel free to use your own corpus here, just make sure it's contained within a single `.txt` file.\n",
        "\n",
        "You could extend this example to use the [OpenWebText](https://skylion007.github.io/OpenWebTextCorpus/) dataset, which was used to pre-train GPT-2.\n",
        "\n",
        "> NOTE: Training LLMs can take a very long time - in order to get results similar to the [GPT-2 paper](https://d4mucfpksywv.cloudfront.net/better-language-models/language_models_are_unsupervised_multitask_learners.pdf) you will need 8xA100s and train for ~4-5 days using a pararellized strategy (DDP) on the OpenWebText Corpus.\n",
        "\n",
        "Let's start by grabbing our source repository for the day!"
      ],
      "metadata": {
        "id": "eHi04aEnkKEZ"
      }
    },
    {
      "cell_type": "code",
      "execution_count": null,
      "metadata": {
        "colab": {
          "base_uri": "https://localhost:8080/"
        },
        "id": "lMRsEQZy6tgc",
        "outputId": "98e0c398-9c1d-4587-a6bf-d956684e39f8"
      },
      "outputs": [
        {
          "output_type": "stream",
          "name": "stdout",
          "text": [
            "Cloning into 'nanoGPT'...\n",
            "remote: Enumerating objects: 649, done.\u001b[K\n",
            "remote: Total 649 (delta 0), reused 0 (delta 0), pack-reused 649\u001b[K\n",
            "Receiving objects: 100% (649/649), 935.48 KiB | 11.55 MiB/s, done.\n",
            "Resolving deltas: 100% (373/373), done.\n"
          ]
        }
      ],
      "source": [
        "!git clone https://github.com/karpathy/nanoGPT.git"
      ]
    },
    {
      "cell_type": "markdown",
      "source": [
        "Next, we'll need to grab some dependencies.\n",
        "\n",
        "`cohere` and `openai` are recent dependencies of `tiktoken`, but we will not be leveraging them today."
      ],
      "metadata": {
        "id": "6l4CqoEDl7ks"
      }
    },
    {
      "cell_type": "code",
      "source": [
        "!pip install tiktoken requests cohere openai -qU"
      ],
      "metadata": {
        "colab": {
          "base_uri": "https://localhost:8080/"
        },
        "id": "d_gepPv1Qdj_",
        "outputId": "f8aa1995-19f0-4e61-8f73-0de956ed06e6"
      },
      "execution_count": null,
      "outputs": [
        {
          "output_type": "stream",
          "name": "stdout",
          "text": [
            "\u001b[2K     \u001b[90m━━━━━━━━━━━━━━━━━━━━━━━━━━━━━━━━━━━━━━━━\u001b[0m \u001b[32m2.0/2.0 MB\u001b[0m \u001b[31m23.3 MB/s\u001b[0m eta \u001b[36m0:00:00\u001b[0m\n",
            "\u001b[2K     \u001b[90m━━━━━━━━━━━━━━━━━━━━━━━━━━━━━━━━━━━━━━━━\u001b[0m \u001b[32m48.0/48.0 kB\u001b[0m \u001b[31m6.8 MB/s\u001b[0m eta \u001b[36m0:00:00\u001b[0m\n",
            "\u001b[2K     \u001b[90m━━━━━━━━━━━━━━━━━━━━━━━━━━━━━━━━━━━━━━━━\u001b[0m \u001b[32m217.8/217.8 kB\u001b[0m \u001b[31m23.7 MB/s\u001b[0m eta \u001b[36m0:00:00\u001b[0m\n",
            "\u001b[2K     \u001b[90m━━━━━━━━━━━━━━━━━━━━━━━━━━━━━━━━━━━━━━━━\u001b[0m \u001b[32m2.7/2.7 MB\u001b[0m \u001b[31m91.2 MB/s\u001b[0m eta \u001b[36m0:00:00\u001b[0m\n",
            "\u001b[2K     \u001b[90m━━━━━━━━━━━━━━━━━━━━━━━━━━━━━━━━━━━━━━━━\u001b[0m \u001b[32m75.0/75.0 kB\u001b[0m \u001b[31m10.8 MB/s\u001b[0m eta \u001b[36m0:00:00\u001b[0m\n",
            "\u001b[2K     \u001b[90m━━━━━━━━━━━━━━━━━━━━━━━━━━━━━━━━━━━━━━━━\u001b[0m \u001b[32m76.9/76.9 kB\u001b[0m \u001b[31m11.3 MB/s\u001b[0m eta \u001b[36m0:00:00\u001b[0m\n",
            "\u001b[2K     \u001b[90m━━━━━━━━━━━━━━━━━━━━━━━━━━━━━━━━━━━━━━━━\u001b[0m \u001b[32m58.3/58.3 kB\u001b[0m \u001b[31m7.7 MB/s\u001b[0m eta \u001b[36m0:00:00\u001b[0m\n",
            "\u001b[?25h"
          ]
        }
      ]
    },
    {
      "cell_type": "markdown",
      "source": [
        "First things first - let's download our dataset!\n",
        "\n",
        "We'll leverage the `requests` library to do this - and then we will split our resultant data into a `train` and `val` set."
      ],
      "metadata": {
        "id": "70hSjXmZmCt3"
      }
    },
    {
      "cell_type": "code",
      "source": [
        "import os\n",
        "import requests\n",
        "import tiktoken\n",
        "import numpy as np\n",
        "\n",
        "current_path = \"/data/shakespeare\"\n",
        "data_url = 'https://raw.githubusercontent.com/karpathy/char-rnn/master/data/tinyshakespeare/input.txt'\n",
        "\n",
        "if not os.path.exists(current_path):\n",
        "    os.makedirs(current_path)\n",
        "\n",
        "# download the tiny shakespeare dataset\n",
        "input_file_path = os.path.join(os.path.dirname(current_path), 'input.txt')\n",
        "if not os.path.exists(input_file_path):\n",
        "\n",
        "    with open(input_file_path, 'w') as f:\n",
        "        f.write(requests.get(data_url).text)\n",
        "\n",
        "with open(input_file_path, 'r') as f:\n",
        "    data = f.read()\n",
        "\n",
        "n = len(data)\n",
        "train_data = data[:int(n*0.9)]\n",
        "val_data = data[int(n*0.9):]"
      ],
      "metadata": {
        "id": "T7qRWArUNiZ5"
      },
      "execution_count": null,
      "outputs": []
    },
    {
      "cell_type": "markdown",
      "source": [
        "Now let's get our `tokenizers` dependency so we can train a tokenizer on our data."
      ],
      "metadata": {
        "id": "wU9BG2CymU-a"
      }
    },
    {
      "cell_type": "code",
      "source": [
        "!pip install tokenizers -qU"
      ],
      "metadata": {
        "colab": {
          "base_uri": "https://localhost:8080/"
        },
        "id": "gFnrwKpQPsYh",
        "outputId": "d146c540-ef94-44c1-a364-439d5461b722"
      },
      "execution_count": null,
      "outputs": [
        {
          "output_type": "stream",
          "name": "stdout",
          "text": [
            "\u001b[?25l     \u001b[90m━━━━━━━━━━━━━━━━━━━━━━━━━━━━━━━━━━━━━━━━\u001b[0m \u001b[32m0.0/3.8 MB\u001b[0m \u001b[31m?\u001b[0m eta \u001b[36m-:--:--\u001b[0m\r\u001b[2K     \u001b[91m━\u001b[0m\u001b[91m╸\u001b[0m\u001b[90m━━━━━━━━━━━━━━━━━━━━━━━━━━━━━━━━━━━━━━\u001b[0m \u001b[32m0.2/3.8 MB\u001b[0m \u001b[31m4.3 MB/s\u001b[0m eta \u001b[36m0:00:01\u001b[0m\r\u001b[2K     \u001b[91m━━━━━━━━━━━━━━━━━━━\u001b[0m\u001b[90m╺\u001b[0m\u001b[90m━━━━━━━━━━━━━━━━━━━━\u001b[0m \u001b[32m1.8/3.8 MB\u001b[0m \u001b[31m26.6 MB/s\u001b[0m eta \u001b[36m0:00:01\u001b[0m\r\u001b[2K     \u001b[90m━━━━━━━━━━━━━━━━━━━━━━━━━━━━━━━━━━━━━━━━\u001b[0m \u001b[32m3.8/3.8 MB\u001b[0m \u001b[31m37.8 MB/s\u001b[0m eta \u001b[36m0:00:00\u001b[0m\n",
            "\u001b[?25h\u001b[?25l     \u001b[90m━━━━━━━━━━━━━━━━━━━━━━━━━━━━━━━━━━━━━━━━\u001b[0m \u001b[32m0.0/295.0 kB\u001b[0m \u001b[31m?\u001b[0m eta \u001b[36m-:--:--\u001b[0m\r\u001b[2K     \u001b[90m━━━━━━━━━━━━━━━━━━━━━━━━━━━━━━━━━━━━━━━━\u001b[0m \u001b[32m295.0/295.0 kB\u001b[0m \u001b[31m36.8 MB/s\u001b[0m eta \u001b[36m0:00:00\u001b[0m\n",
            "\u001b[?25h"
          ]
        }
      ]
    },
    {
      "cell_type": "markdown",
      "source": [
        "We will be training a \"byte-pair-encoding\" or \"BPE\" tokenizer. If you'd like to read more, you can find it [here](https://en.wikipedia.org/wiki/Byte_pair_encoding).\n",
        "\n",
        "Let's work through an example of what Byte-Pair Encoding (BPE) is doing, exactly, from this wonderful example provided by [Hugging Face](https://huggingface.co/docs/transformers/main/tokenizer_summary#byte-pair-encoding-bpe).\n",
        "\n",
        "\n",
        "\n"
      ],
      "metadata": {
        "id": "rmWXE5ctma9Z"
      }
    },
    {
      "cell_type": "markdown",
      "source": [
        "### What is BPE?\n",
        "\n",
        "First, we need to do a step called \"pre-tokenization\", which is - as it sounds - a tokenization step that occurs before we tokenize.\n",
        "\n",
        "The essential idea of BPE is that we need to understand common words and \"byte-pairs\" in them. So, in order to find \"common words\" we first need to find...words!\n",
        "\n",
        "Let's take the following text and break it apart into its word components.\n",
        "\n",
        "\n",
        "```\n",
        "After pre-tokenization, a set of unique words has been created and the frequency with which each word occurred in the training data has been determined. Next, BPE creates a base vocabulary consisting of all symbols that occur in the set of unique words and learns merge rules to form a new symbol from two symbols of the base vocabulary. It does so until the vocabulary has attained the desired vocabulary size. Note that the desired vocabulary size is a hyperparameter to define before training the tokenizer.\n",
        "```\n",
        "\n",
        "A naive way to do this would just be by splitting on spaces...and that is indeed what technique was used in GPT-2."
      ],
      "metadata": {
        "id": "GLecDiHbogvX"
      }
    },
    {
      "cell_type": "code",
      "source": [
        "input_text = \"\"\"\n",
        "After pre-tokenization, a set of unique words has been created and the frequency with which each word occurred in the training data has been determined. Next, BPE creates a base vocabulary consisting of all symbols that occur in the set of unique words and learns merge rules to form a new symbol from two symbols of the base vocabulary. It does so until the vocabulary has attained the desired vocabulary size. Note that the desired vocabulary size is a hyperparameter to define before training the tokenizer.\n",
        "\"\"\"\n",
        "\n",
        "naive_word_list = input_text.split()"
      ],
      "metadata": {
        "id": "m34NDAGCpiz6"
      },
      "execution_count": null,
      "outputs": []
    },
    {
      "cell_type": "markdown",
      "source": [
        "Now we can count our words and get their frequency."
      ],
      "metadata": {
        "id": "hR8k-2bopqjy"
      }
    },
    {
      "cell_type": "code",
      "source": [
        "from collections import defaultdict\n",
        "\n",
        "vocab_and_frequencies = defaultdict(int)\n",
        "\n",
        "for word in naive_word_list:\n",
        "  vocab_and_frequencies[\" \".join(list(word))] += 1\n",
        "\n",
        "sorted(vocab_and_frequencies.items(), key = lambda x: x[1], reverse=True)[:5]"
      ],
      "metadata": {
        "colab": {
          "base_uri": "https://localhost:8080/"
        },
        "id": "B_201bSQpvqD",
        "outputId": "5ac5738c-a77c-4a45-ab0d-f189cf234227"
      },
      "execution_count": null,
      "outputs": [
        {
          "output_type": "execute_result",
          "data": {
            "text/plain": [
              "[('t h e', 8), ('a', 4), ('o f', 4), ('v o c a b u l a r y', 4), ('h a s', 3)]"
            ]
          },
          "metadata": {},
          "execution_count": 6
        }
      ]
    },
    {
      "cell_type": "markdown",
      "source": [
        "Let's find our \"base vocabulary\", which is going to be each symbol present in our original dataset."
      ],
      "metadata": {
        "id": "NckufSxxp-w5"
      }
    },
    {
      "cell_type": "code",
      "source": [
        "from typing import Dict, Tuple, List, Set\n",
        "\n",
        "def find_vocabulary_size(current_vocab: Dict[str, int]) -> int:\n",
        "  vocab = set()\n",
        "\n",
        "  for word in current_vocab.keys():\n",
        "    for subword in word.split():\n",
        "      vocab.add(subword)\n",
        "\n",
        "  return len(vocab)"
      ],
      "metadata": {
        "id": "BNcjzjDvvKjp"
      },
      "execution_count": null,
      "outputs": []
    },
    {
      "cell_type": "code",
      "source": [
        "find_vocabulary_size(vocab_and_frequencies)"
      ],
      "metadata": {
        "colab": {
          "base_uri": "https://localhost:8080/"
        },
        "id": "pf3kCf-WvdBL",
        "outputId": "9d6e5eac-e884-4f46-9f64-fd1254ae7fd3"
      },
      "execution_count": null,
      "outputs": [
        {
          "output_type": "execute_result",
          "data": {
            "text/plain": [
              "34"
            ]
          },
          "metadata": {},
          "execution_count": 8
        }
      ]
    },
    {
      "cell_type": "markdown",
      "source": [
        "As we can see, there are 36 symbols in our base vocabulary. Let's convert our data into a form where we can capture each symbol separately."
      ],
      "metadata": {
        "id": "VoMq7GhKqf7p"
      }
    },
    {
      "cell_type": "markdown",
      "source": [
        "Now we can start constructing our pairs. We will look at all the pairs of symbols as they appear and take into consideration their frequency in our corpus."
      ],
      "metadata": {
        "id": "OGxrHYmftDTr"
      }
    },
    {
      "cell_type": "code",
      "source": [
        "def find_pairs_and_frequencies(current_vocab: Dict[str, int]) -> Dict[str, int]:\n",
        "  pairs = {}\n",
        "\n",
        "  for word, frequency in current_vocab.items():\n",
        "    symbols = word.split()\n",
        "\n",
        "    for i in range(len(symbols) - 1):\n",
        "      pair = (symbols[i], symbols[i + 1])\n",
        "      current_frequency = pairs.get(pair, 0)\n",
        "      pairs[pair] = current_frequency + frequency\n",
        "\n",
        "  return pairs"
      ],
      "metadata": {
        "id": "sTwvfTAErQN7"
      },
      "execution_count": null,
      "outputs": []
    },
    {
      "cell_type": "code",
      "source": [
        "pairs_and_frequencies = find_pairs_and_frequencies(vocab_and_frequencies)"
      ],
      "metadata": {
        "id": "FudOaKmYv9-y"
      },
      "execution_count": null,
      "outputs": []
    },
    {
      "cell_type": "code",
      "source": [
        "sorted(pairs_and_frequencies.items(), key = lambda x: x[1], reverse=True)[:5]"
      ],
      "metadata": {
        "colab": {
          "base_uri": "https://localhost:8080/"
        },
        "id": "oGIJfkk7wFYw",
        "outputId": "78312810-6193-4e69-b9b5-be29b3e8cc61"
      },
      "execution_count": null,
      "outputs": [
        {
          "output_type": "execute_result",
          "data": {
            "text/plain": [
              "[(('t', 'h'), 11),\n",
              " (('i', 'n'), 10),\n",
              " (('r', 'e'), 8),\n",
              " (('h', 'e'), 8),\n",
              " (('a', 't'), 7)]"
            ]
          },
          "metadata": {},
          "execution_count": 11
        }
      ]
    },
    {
      "cell_type": "markdown",
      "source": [
        "Now that we have the frequent pairs - we can merge those pairs into a single token.\n",
        "\n",
        "Let's see how this process looks in code."
      ],
      "metadata": {
        "id": "OqORqdzwsZ6s"
      }
    },
    {
      "cell_type": "code",
      "source": [
        "import re\n",
        "\n",
        "def merge_vocab(most_common_pair: Tuple[str], current_vocab: Dict[str, int]) -> Dict[str, int]:\n",
        "  vocab_out = {}\n",
        "\n",
        "  pattern = re.escape(' '.join(most_common_pair))\n",
        "  replacement = ''.join(most_common_pair)\n",
        "\n",
        "  for word_in in current_vocab:\n",
        "      word_out = re.sub(pattern, replacement, word_in)\n",
        "      vocab_out[word_out] = current_vocab[word_in]\n",
        "\n",
        "  return vocab_out"
      ],
      "metadata": {
        "id": "L7ohHm2kshoY"
      },
      "execution_count": null,
      "outputs": []
    },
    {
      "cell_type": "code",
      "source": [
        "new_vocab_and_frequencies = merge_vocab(\n",
        "    sorted(pairs_and_frequencies.items(), key = lambda x: x[1], reverse=True)[0][0],\n",
        "    vocab_and_frequencies\n",
        ")"
      ],
      "metadata": {
        "id": "Ab760KKuwzZ6"
      },
      "execution_count": null,
      "outputs": []
    },
    {
      "cell_type": "code",
      "source": [
        "sorted(new_vocab_and_frequencies.items(), key = lambda x: x[1], reverse=True)[:5]"
      ],
      "metadata": {
        "colab": {
          "base_uri": "https://localhost:8080/"
        },
        "id": "L0XtvLbpxbSx",
        "outputId": "c6f33b78-1cc6-4f1e-e211-36eab5b01bed"
      },
      "execution_count": null,
      "outputs": [
        {
          "output_type": "execute_result",
          "data": {
            "text/plain": [
              "[('th e', 8), ('a', 4), ('o f', 4), ('v o c a b u l a r y', 4), ('h a s', 3)]"
            ]
          },
          "metadata": {},
          "execution_count": 14
        }
      ]
    },
    {
      "cell_type": "markdown",
      "source": [
        "After one merge, we can see that `t h` has been converted to `th`!\n",
        "\n",
        "Let's see how that impacted our vocabulary."
      ],
      "metadata": {
        "id": "9DPkBzj2u-me"
      }
    },
    {
      "cell_type": "code",
      "source": [
        "find_vocabulary_size(new_vocab_and_frequencies)"
      ],
      "metadata": {
        "colab": {
          "base_uri": "https://localhost:8080/"
        },
        "id": "bO_xegCtxjQf",
        "outputId": "7cb23971-a05f-48ea-ac7a-0fa38030b396"
      },
      "execution_count": null,
      "outputs": [
        {
          "output_type": "execute_result",
          "data": {
            "text/plain": [
              "35"
            ]
          },
          "metadata": {},
          "execution_count": 15
        }
      ]
    },
    {
      "cell_type": "markdown",
      "source": [
        "We can see that our vocabulary has increased by 1 as we've added the `th` symbol to it!\n",
        "\n",
        "In essence, BPE will continue to do this process until your desired vocabulary size (a hyper-parameter) is met!"
      ],
      "metadata": {
        "id": "o3M13D60xzZi"
      }
    },
    {
      "cell_type": "markdown",
      "source": [
        "## Training Our Tokenizer\n",
        "\n",
        "Now that we have some background on how BBPE works, lets move on to training our tokenizer for our model!\n",
        "\n",
        "Let's walk through the steps we'll take:\n",
        "\n",
        "1. Initialize our `Tokenizer` with a `BPE` model. Be sure to include the `unk_token`.\n",
        "\n",
        "  - [`Tokenizer`](https://huggingface.co/docs/tokenizers/api/tokenizer#tokenizer)\n",
        "  - [`Models`](https://huggingface.co/docs/tokenizers/api/models#models)\n",
        "\n",
        "2. We'll include a normalizer, applied at the sequence level, and we'll use `NFD()` to do so. More reading on Unicode Normalization Forms [here](https://unicode.org/reports/tr15/#Normalization_Forms_Table).\n",
        "\n",
        "  - [`NFD()`](https://huggingface.co/docs/tokenizers/api/normalizers#tokenizers.normalizers.NFD)\n",
        "\n",
        "3. We'll also add our `ByteLevel()` pre-tokenizer, and our `ByteLevelDecoder()` decoder.\n",
        "\n",
        "  - [`ByteLevel()`](https://huggingface.co/docs/tokenizers/api/pre-tokenizers#tokenizers.pre_tokenizers.ByteLevel)\n",
        "  - [`ByteLevelDecoder()`](https://huggingface.co/docs/tokenizers/api/decoders#tokenizers.decoders.ByteLevel)"
      ],
      "metadata": {
        "id": "BePYCbHly02H"
      }
    },
    {
      "cell_type": "code",
      "source": [
        "from tokenizers import Tokenizer\n",
        "from tokenizers.models import BPE\n",
        "from tokenizers.decoders import ByteLevel as ByteLevelDecoder\n",
        "from tokenizers.normalizers import NFD, Sequence\n",
        "from tokenizers.trainers import BpeTrainer\n",
        "from tokenizers.pre_tokenizers import ByteLevel\n",
        "\n",
        "tokenizer = Tokenizer(BPE(unk_token=\"[UNK]\"))\n",
        "tokenizer.normalizer = Sequence([NFD()])\n",
        "tokenizer.pre_tokenizer = ByteLevel()\n",
        "tokenizer.decoder = ByteLevelDecoder()"
      ],
      "metadata": {
        "id": "OrztE09OPosB"
      },
      "execution_count": null,
      "outputs": []
    },
    {
      "cell_type": "markdown",
      "source": [
        "We'll want to add some special tokens to our tokenizer to ensure in has access to common token patterns.\n",
        "\n",
        "Let's use the following:\n",
        "\n",
        "- `\"<s>\"`    : bos_token - beginning of sequence token\n",
        "- `\"</s>\"`   : eos_token - end of sequence token\n",
        "- `\"<pad>\"`  : padding_token - token used to pad sequences\n",
        "- `\"<unk>\"`  : unk_token - token used to represent unknown tokens.\n",
        "- `\"<mask>\"` : mask_token - token used to mask parts of our sequence\n",
        "\n",
        "We're also going to set a target vocabulary of 50,000 tokens."
      ],
      "metadata": {
        "id": "dDqkNNdM1KsD"
      }
    },
    {
      "cell_type": "code",
      "source": [
        "trainer = BpeTrainer(\n",
        "    vocab_size=50000,\n",
        "    show_progress=True,\n",
        "    special_tokens=[\n",
        "      \"<s>\",\n",
        "      \"<pad>\",\n",
        "      \"</s>\",\n",
        "      \"<unk>\",\n",
        "      \"<mask>\"\n",
        "    ]\n",
        ")"
      ],
      "metadata": {
        "id": "x9iQVhN3P3RN"
      },
      "execution_count": null,
      "outputs": []
    },
    {
      "cell_type": "markdown",
      "source": [
        "Nothing left to do but point it at our data-source and let it train!\n",
        "\n",
        "We'll use the `.train()` method to accomplish this task.\n",
        "\n",
        "> NOTE: Pay attention to the desired inputs of the `.train()` method.\n",
        "\n",
        "- [`Tokenizer.train()`](https://huggingface.co/docs/tokenizers/api/tokenizer#tokenizers.Tokenizer.train)"
      ],
      "metadata": {
        "id": "yQ8X9vZe2Fyw"
      }
    },
    {
      "cell_type": "code",
      "source": [
        "tokenizer.train(files=[input_file_path], trainer=trainer)"
      ],
      "metadata": {
        "id": "LinLHotSP7gv"
      },
      "execution_count": null,
      "outputs": []
    },
    {
      "cell_type": "markdown",
      "source": [
        "Now we can save our tokenizer - and then load it as a `GPT2Tokenizer` through the Hugging Face Library!"
      ],
      "metadata": {
        "id": "V2JNYiqB2qKV"
      }
    },
    {
      "cell_type": "code",
      "source": [
        "save_path = '/content/tokenizer'\n",
        "if not os.path.exists(save_path):\n",
        "    os.makedirs(save_path)\n",
        "tokenizer.model.save(save_path)"
      ],
      "metadata": {
        "colab": {
          "base_uri": "https://localhost:8080/"
        },
        "id": "Jk6QjDGHQy2K",
        "outputId": "2057465c-ae00-4859-a557-5b5f7e3f4654"
      },
      "execution_count": null,
      "outputs": [
        {
          "output_type": "execute_result",
          "data": {
            "text/plain": [
              "['/content/tokenizer/vocab.json', '/content/tokenizer/merges.txt']"
            ]
          },
          "metadata": {},
          "execution_count": 19
        }
      ]
    },
    {
      "cell_type": "code",
      "source": [
        "!pip install transformers -qU"
      ],
      "metadata": {
        "colab": {
          "base_uri": "https://localhost:8080/"
        },
        "id": "cOOlbggdRFrN",
        "outputId": "27299391-0c7e-4404-a116-983bb9335053"
      },
      "execution_count": null,
      "outputs": [
        {
          "output_type": "stream",
          "name": "stdout",
          "text": [
            "\u001b[2K     \u001b[90m━━━━━━━━━━━━━━━━━━━━━━━━━━━━━━━━━━━━━━━━\u001b[0m \u001b[32m7.9/7.9 MB\u001b[0m \u001b[31m61.9 MB/s\u001b[0m eta \u001b[36m0:00:00\u001b[0m\n",
            "\u001b[2K     \u001b[90m━━━━━━━━━━━━━━━━━━━━━━━━━━━━━━━━━━━━━━━━\u001b[0m \u001b[32m1.3/1.3 MB\u001b[0m \u001b[31m78.0 MB/s\u001b[0m eta \u001b[36m0:00:00\u001b[0m\n",
            "\u001b[?25h"
          ]
        }
      ]
    },
    {
      "cell_type": "code",
      "source": [
        "from transformers import GPT2Tokenizer\n",
        "\n",
        "tokenizer = GPT2Tokenizer.from_pretrained(save_path, unk_token=\"[UNK]\")"
      ],
      "metadata": {
        "id": "us1vofdhQ45C"
      },
      "execution_count": null,
      "outputs": []
    },
    {
      "cell_type": "markdown",
      "source": [
        "Let's see how it tokenizes our inputs!"
      ],
      "metadata": {
        "id": "0-Bnq7lV2xWo"
      }
    },
    {
      "cell_type": "code",
      "source": [
        "input_sentence = \"Hark, my name be Romeo! I am but a beautiful summer's day!\""
      ],
      "metadata": {
        "id": "dnYnFa3fTRLf"
      },
      "execution_count": null,
      "outputs": []
    },
    {
      "cell_type": "code",
      "source": [
        "tokenized_sentence = tokenizer.tokenize(input_sentence)\n",
        "tokenized_sentence"
      ],
      "metadata": {
        "colab": {
          "base_uri": "https://localhost:8080/"
        },
        "id": "PSHY5VufRbBj",
        "outputId": "40f4dc82-98a4-40cb-b07e-ec56affa8094"
      },
      "execution_count": null,
      "outputs": [
        {
          "output_type": "execute_result",
          "data": {
            "text/plain": [
              "['Hark',\n",
              " ',',\n",
              " 'Ġmy',\n",
              " 'Ġname',\n",
              " 'Ġbe',\n",
              " 'ĠRomeo',\n",
              " '!',\n",
              " 'ĠI',\n",
              " 'Ġam',\n",
              " 'Ġbut',\n",
              " 'Ġa',\n",
              " 'Ġbeautiful',\n",
              " 'Ġsummer',\n",
              " \"'s\",\n",
              " 'Ġday',\n",
              " '!']"
            ]
          },
          "metadata": {},
          "execution_count": 23
        }
      ]
    },
    {
      "cell_type": "code",
      "source": [
        "encoded_tokens = tokenizer.convert_tokens_to_ids(tokenized_sentence)\n",
        "encoded_tokens"
      ],
      "metadata": {
        "colab": {
          "base_uri": "https://localhost:8080/"
        },
        "id": "eZrWzQQlTU41",
        "outputId": "07807b07-bc2f-4d2c-eda8-d544cdaf09e3"
      },
      "execution_count": null,
      "outputs": [
        {
          "output_type": "execute_result",
          "data": {
            "text/plain": [
              "[12077, 9, 124, 637, 121, 826, 5, 87, 295, 219, 72, 9113, 2999, 141, 511, 5]"
            ]
          },
          "metadata": {},
          "execution_count": 24
        }
      ]
    },
    {
      "cell_type": "code",
      "source": [
        "decoded_tokens = tokenizer.decode(encoded_tokens, clean_up_tokenization_spaces=False)\n",
        "decoded_tokens"
      ],
      "metadata": {
        "colab": {
          "base_uri": "https://localhost:8080/",
          "height": 35
        },
        "id": "oS6lE-NLRnzk",
        "outputId": "c67bd98b-11dc-4362-f60e-c15ebdd59d7e"
      },
      "execution_count": null,
      "outputs": [
        {
          "output_type": "execute_result",
          "data": {
            "text/plain": [
              "\"Hark, my name be Romeo! I am but a beautiful summer's day!\""
            ],
            "application/vnd.google.colaboratory.intrinsic+json": {
              "type": "string"
            }
          },
          "metadata": {},
          "execution_count": 25
        }
      ]
    },
    {
      "cell_type": "markdown",
      "source": [
        "## Tokenizing Dataset\n",
        "\n",
        "Now that we have trained our tokenizer - let's create a dataset we can leverage with the `nanoGPT` library.\n",
        "\n",
        "We'll simply encode our training and validation data - and then save them in binary files for later!\n",
        "\n",
        "> NOTE: Pay attention to the format you want your dataset in. We want ids, which means we want to use the [`.encode()`](https://huggingface.co/docs/tokenizers/api/tokenizer#tokenizers.Tokenizer.encode) method of our tokenizer."
      ],
      "metadata": {
        "id": "ji3sF-rA21YH"
      }
    },
    {
      "cell_type": "code",
      "source": [
        "train_ids = tokenizer.encode(train_data)\n",
        "val_ids = tokenizer.encode(val_data)\n",
        "print(f\"train has {len(train_ids):,} tokens\")\n",
        "print(f\"val has {len(val_ids):,} tokens\")"
      ],
      "metadata": {
        "colab": {
          "base_uri": "https://localhost:8080/"
        },
        "id": "calHML6JPnCU",
        "outputId": "e1e381e5-cd31-46d6-e155-5950f338bf56"
      },
      "execution_count": null,
      "outputs": [
        {
          "output_type": "stream",
          "name": "stdout",
          "text": [
            "train has 291,284 tokens\n",
            "val has 34,223 tokens\n"
          ]
        }
      ]
    },
    {
      "cell_type": "code",
      "source": [
        "# export to bin files\n",
        "data_path = \"/data/shakespeare/\"\n",
        "\n",
        "train_ids = np.array(train_ids, dtype=np.uint16)\n",
        "val_ids = np.array(val_ids, dtype=np.uint16)\n",
        "train_ids.tofile(os.path.join(os.path.dirname(data_path), 'train.bin'))\n",
        "val_ids.tofile(os.path.join(os.path.dirname(data_path), 'val.bin'))"
      ],
      "metadata": {
        "id": "nKJ1KqiiPkRh"
      },
      "execution_count": null,
      "outputs": []
    },
    {
      "cell_type": "markdown",
      "source": [
        "## Training The Model\n",
        "\n",
        "Now that we have our tokenized dataset, let's get to training our model!\n",
        "\n",
        "We have a lot of set-up to do before we click \"`.train()`\", so let's jump right into it!\n",
        "\n",
        "First, let's literally jump into the `nanoGPT` repository we cloned earlier."
      ],
      "metadata": {
        "id": "c0I3VrRC3XIO"
      }
    },
    {
      "cell_type": "code",
      "source": [
        "%cd nanoGPT"
      ],
      "metadata": {
        "colab": {
          "base_uri": "https://localhost:8080/"
        },
        "id": "NUU2jaalUdqm",
        "outputId": "b6329120-f5e0-48b8-9912-7ec201f96db4"
      },
      "execution_count": null,
      "outputs": [
        {
          "output_type": "stream",
          "name": "stdout",
          "text": [
            "/content/nanoGPT\n"
          ]
        }
      ]
    },
    {
      "cell_type": "markdown",
      "source": [
        "We'll do some critical imports."
      ],
      "metadata": {
        "id": "13p1e8sa3k0V"
      }
    },
    {
      "cell_type": "code",
      "source": [
        "import os\n",
        "import time\n",
        "import math\n",
        "import pickle\n",
        "from contextlib import nullcontext\n",
        "\n",
        "import numpy as np\n",
        "import torch\n",
        "\n",
        "# from the local repo\n",
        "from model import GPTConfig, GPT"
      ],
      "metadata": {
        "id": "weNR37BwUYNg"
      },
      "execution_count": null,
      "outputs": []
    },
    {
      "cell_type": "markdown",
      "source": [
        "### Hyper-Parameters\n",
        "\n",
        "We have a laundry list of hyper-parameters to set up - let's walk through them and what they mean."
      ],
      "metadata": {
        "id": "kY_vWZG-3uM-"
      }
    },
    {
      "cell_type": "markdown",
      "source": [
        "#### I/O\n",
        "\n",
        "- `out_dir` - simple enough, this is the output directory where our checkpoints are saved"
      ],
      "metadata": {
        "id": "OykCjVQK5EX-"
      }
    },
    {
      "cell_type": "code",
      "source": [
        "out_dir = 'out'"
      ],
      "metadata": {
        "id": "viM3qlWt5PVS"
      },
      "execution_count": null,
      "outputs": []
    },
    {
      "cell_type": "markdown",
      "source": [
        "#### Initialization\n",
        "\n",
        "Since we're training from scratch, we'll use `init_from = 'scratch'`."
      ],
      "metadata": {
        "id": "A5iwwrNL5H4C"
      }
    },
    {
      "cell_type": "code",
      "source": [
        "init_from = 'scratch'"
      ],
      "metadata": {
        "id": "OK1z2m3C312T"
      },
      "execution_count": null,
      "outputs": []
    },
    {
      "cell_type": "markdown",
      "source": [
        "#### Eval and Logging\n",
        "\n",
        "- `eval_interval` - this is the number of steps between evaluation stages, we'll want to see this ~`250`. Our model will be incredibly prone to over-fitting, and this will let us monitor with relative frequency.\n",
        "- `log_interval` - this is how often our training progress will log. You can set this ~`10`. It's dealer's choice, really.\n",
        "- `eval_iters` - this is how *many* iterations we want to evaluate for.\n",
        "- `eval_only` - this would evaluate our model - but not train it. We'll leave this as `False` for now.\n",
        "- `always_save_checkpoint` - this will always save our most recent checkpoint, regardless of metrics. For this example, we'll set this to `True`."
      ],
      "metadata": {
        "id": "2YlolKOj4_dE"
      }
    },
    {
      "cell_type": "code",
      "source": [
        "eval_interval = 250\n",
        "eval_iters = 200\n",
        "log_interval = 10\n",
        "eval_only = False\n",
        "always_save_checkpoint = True"
      ],
      "metadata": {
        "id": "MbFN5Ltq4_mo"
      },
      "execution_count": null,
      "outputs": []
    },
    {
      "cell_type": "markdown",
      "source": [
        "#### Dataset\n",
        "\n",
        "We can set our dataset here - we'll use the one we created earlier!"
      ],
      "metadata": {
        "id": "a488zaF_4zQk"
      }
    },
    {
      "cell_type": "code",
      "source": [
        "dataset = 'shakespeare'"
      ],
      "metadata": {
        "id": "_QC7vWXC40Hp"
      },
      "execution_count": null,
      "outputs": []
    },
    {
      "cell_type": "markdown",
      "source": [
        "#### Typical Hyper-Parameters\n",
        "\n",
        "- `gradient_accumulation_steps` - we can use gradient accumulation to \"simulate\" larger batch sizes by combining multiple different optimization steps together, without needing the additional memory for large batch sizes. We don't need to worry so much about this for the toy problem - but this hyper-parameter can be configured for larger training runs. [Here](https://lightning.ai/blog/gradient-accumulation/) is some great reading on the topic.\n",
        "- `batch_size` - Typical batch_size - the larger the merrier (up to a point) we'll be using `16` to ensure we do not exceed the memory quota of our GPU.\n",
        "- `block_size` - this can be thought of as another term for the `context window` of our model. Since our model cannot take variable length inputs - we use this to set all inputs to our desired size. We'll use a value of `512` to ensure speedy training."
      ],
      "metadata": {
        "id": "XP9rBgGc426Q"
      }
    },
    {
      "cell_type": "code",
      "source": [
        "gradient_accumulation_steps = 1 # used to simulate larger batch sizes\n",
        "batch_size = 16 # if gradient_accumulation_steps > 1, this is the micro-batch size\n",
        "block_size = 512"
      ],
      "metadata": {
        "id": "EM_ybLPP43Pd"
      },
      "execution_count": null,
      "outputs": []
    },
    {
      "cell_type": "markdown",
      "source": [
        "#### Model Architecture\n",
        "\n",
        "- `n_layer` - this is the number of decoder layers we will use in our model. More would be considered better (up to a point) and the original GPT-2 paper uses `12`, but we will be using a truncated `6` for ease and speed of training.\n",
        "- `n_head` - this is the number of attention heads in each decoder layer!\n",
        "- `n_embd` - this is the embedding dimension of our model, this is analagous to our `model_d` from the previous notebook.\n",
        "- `dropout` - this sets our dropout value, since our model is small and going to be extremely prone to overfitting, consider setting this at a fairly aggresive level (`0.2` was used in the example training found in the notebook`).\n",
        "- `bias` - wether or not to use bias inside the LayerNorm/Linear layers.\n",
        "\n",
        "> NOTE: You need to ensure your `n_embd` is cleanly divided by your `n_head`. That is to say:\n",
        ">\n",
        "> `n_embd % n_head == 0`."
      ],
      "metadata": {
        "id": "UZ-8bDIY45GS"
      }
    },
    {
      "cell_type": "code",
      "source": [
        "n_layer = 6\n",
        "n_head = 6\n",
        "n_embd = 516\n",
        "dropout = 0.2\n",
        "bias = False"
      ],
      "metadata": {
        "id": "gMyyDBxB6k4H"
      },
      "execution_count": null,
      "outputs": []
    },
    {
      "cell_type": "markdown",
      "source": [
        "#### Optimizer Hyper-Parameters\n",
        "\n",
        "Basic Optimizer Hyper-Parameters:\n",
        "\n",
        "- `learning_rate` - it's our learning rate! We'll want to set this fairly high ~`1e-3` since we're training on such a small dataset.\n",
        "- `max_iters` - how many iterations do we train for. More iters means longer training times. Feel free to tinker with this value! `5000` is a great place to start.\n",
        "\n",
        "Learning Rate Decay Settings:\n",
        "\n",
        "- `decay_lr` - set decay flag\n",
        "- `weight_Decay` - how much to decay lr by\n",
        "- `lr_decay_iters` - should be set to ~max_iters.\n",
        "- `min_lr` - the minimum lr, should be ~ lr / 10\n",
        "\n",
        "Clipping and Warmup:\n",
        "\n",
        "- `grad_clip` - value to clip gradients to. useful for preventing vanishing gradients.\n",
        "- `warmup_iters` - how many iterations to warmup for. Warmup is useful to allow your training to slowly warmup. It will use a low lr for a number of steps to avoid any massive initial spikes. Since we're training a very small model - we can avoid using many wamrup steps.\n",
        "\n",
        "> NOTE: Many learnings taken from the [Chincilla paper](https://arxiv.org/pdf/2203.15556.pdf) for selecting default or appropriate values."
      ],
      "metadata": {
        "id": "3NWDTaAz7gwh"
      }
    },
    {
      "cell_type": "code",
      "source": [
        "# adamw optimizer\n",
        "learning_rate = 1e-3 # max learning rate\n",
        "max_iters = 5_000 # total number of training iterations\n",
        "beta1 = 0.9\n",
        "beta2 = 0.99\n",
        "\n",
        "# lr decay settings\n",
        "decay_lr = True # whether to decay the learning rate\n",
        "weight_decay = 1e-1\n",
        "lr_decay_iters = 5_000 # should be ~= max_iters per Chinchilla\n",
        "min_lr = 1e-4 # minimum learning rate, should be ~= learning_rate/10 per Chinchilla\n",
        "\n",
        "# clipping and warmup\n",
        "grad_clip = 1.0 # clip gradients at this value, or disable if == 0.0\n",
        "warmup_iters = 100 # how many steps to warm up for"
      ],
      "metadata": {
        "id": "qe-669jwUptI"
      },
      "execution_count": null,
      "outputs": []
    },
    {
      "cell_type": "markdown",
      "source": [
        "These hyper-parameters are necessary to set given the task we're training and given the environment we're training in."
      ],
      "metadata": {
        "id": "ucldc4mz9yeT"
      }
    },
    {
      "cell_type": "code",
      "source": [
        "backend = 'nccl'\n",
        "device = 'cuda'\n",
        "dtype = 'bfloat16' if torch.cuda.is_available() and torch.cuda.is_bf16_supported() else 'float16'\n",
        "compile = True\n",
        "# -----------------------------------------------------------------------------\n",
        "config_keys = [k for k,v in globals().items() if not k.startswith('_') and isinstance(v, (int, float, bool, str))]\n",
        "config = {k: globals()[k] for k in config_keys}\n",
        "# -----------------------------------------------------------------------------\n",
        "master_process = True\n",
        "seed_offset = 0\n",
        "ddp_world_size = 1\n",
        "tokens_per_iter = gradient_accumulation_steps * ddp_world_size * batch_size * block_size\n",
        "print(f\"tokens per iteration will be: {tokens_per_iter:,}\")\n",
        "os.makedirs(out_dir, exist_ok=True)"
      ],
      "metadata": {
        "colab": {
          "base_uri": "https://localhost:8080/"
        },
        "id": "xHiGlMOp8Nux",
        "outputId": "381c2691-5dc5-409a-ecfe-e58ba9ede83b"
      },
      "execution_count": null,
      "outputs": [
        {
          "output_type": "stream",
          "name": "stdout",
          "text": [
            "tokens per iteration will be: 8,192\n"
          ]
        }
      ]
    },
    {
      "cell_type": "markdown",
      "source": [
        "### Torch Settings\n",
        "\n",
        "We need to set a few `torch` settings, including the seed, to allow us to train correctly on our GPU.\n",
        "\n",
        "Not much is required for us to understand here - these are just necessary lines of code. Boilerplate."
      ],
      "metadata": {
        "id": "eKmdfbye-BNf"
      }
    },
    {
      "cell_type": "code",
      "source": [
        "torch.manual_seed(1337 + seed_offset)\n",
        "torch.backends.cuda.matmul.allow_tf32 = True # allow tf32 on matmul\n",
        "torch.backends.cudnn.allow_tf32 = True # allow tf32 on cudnn\n",
        "device_type = 'cuda' if 'cuda' in device else 'cpu'\n",
        "ptdtype = {'float32': torch.float32, 'bfloat16': torch.bfloat16, 'float16': torch.float16}[dtype]\n",
        "ctx = nullcontext() if device_type == 'cpu' else torch.amp.autocast(device_type=device_type, dtype=ptdtype)"
      ],
      "metadata": {
        "id": "yh34QGD6VARU"
      },
      "execution_count": null,
      "outputs": []
    },
    {
      "cell_type": "markdown",
      "source": [
        "### Dataloader\n",
        "\n",
        "This block will:\n",
        "\n",
        "1. Set the data path\n",
        "2. Load the dataset we tokenized earlier from the `.bin` we saved\n",
        "3. Define a `get_batch` function that will return us a random section of our data as well as a the corresponding \"label\" for that data and move it to the GPU for easy use inside our training loop."
      ],
      "metadata": {
        "id": "gKeNwYaZ-Zoc"
      }
    },
    {
      "cell_type": "code",
      "source": [
        "data_dir = os.path.join('/data', dataset)\n",
        "train_data = np.memmap(os.path.join(data_dir, 'train.bin'), dtype=np.uint16, mode='r')\n",
        "val_data = np.memmap(os.path.join(data_dir, 'val.bin'), dtype=np.uint16, mode='r')\n",
        "\n",
        "def get_batch(split):\n",
        "    data = train_data if split == 'train' else val_data\n",
        "    ix = torch.randint(len(data) - block_size, (batch_size,))\n",
        "    x = torch.stack([torch.from_numpy((data[i:i+block_size]).astype(np.int64)) for i in ix])\n",
        "    y = torch.stack([torch.from_numpy((data[i+1:i+1+block_size]).astype(np.int64)) for i in ix])\n",
        "    if device_type == 'cuda':\n",
        "        # pin arrays x,y, which allows us to move them to GPU asynchronously (non_blocking=True)\n",
        "        x, y = x.pin_memory().to(device, non_blocking=True), y.pin_memory().to(device, non_blocking=True)\n",
        "    else:\n",
        "        x, y = x.to(device), y.to(device)\n",
        "    return x, y"
      ],
      "metadata": {
        "id": "tOjaPyJpVEgx"
      },
      "execution_count": null,
      "outputs": []
    },
    {
      "cell_type": "markdown",
      "source": [
        "#### Question:\n",
        "\n",
        "What can you tell us about the way the labels are generated?\n",
        "\n",
        "Please produce an example of a single x and y pair."
      ],
      "metadata": {
        "id": "I-tifZVD-9hG"
      }
    },
    {
      "cell_type": "markdown",
      "source": [
        "### Simple Initialization of Model\n",
        "\n",
        "Here we init our number of iterations as 0, and our best val loss as a very high number."
      ],
      "metadata": {
        "id": "EbDlW-68_atH"
      }
    },
    {
      "cell_type": "code",
      "source": [
        "iter_num = 0\n",
        "best_val_loss = 1e9"
      ],
      "metadata": {
        "id": "6hsepdVBVzQU"
      },
      "execution_count": null,
      "outputs": []
    },
    {
      "cell_type": "markdown",
      "source": [
        "Obtain our vocab size from our trained tokenizer."
      ],
      "metadata": {
        "id": "A4Uj9qBI_vXc"
      }
    },
    {
      "cell_type": "code",
      "source": [
        "meta_path = os.path.join(data_dir, 'meta.pkl')\n",
        "meta_vocab_size = tokenizer.vocab_size\n",
        "meta_vocab_size"
      ],
      "metadata": {
        "colab": {
          "base_uri": "https://localhost:8080/"
        },
        "id": "m53DcCdFV0_a",
        "outputId": "0d225488-fa73-4714-ff69-f39c16af4d25"
      },
      "execution_count": null,
      "outputs": [
        {
          "output_type": "execute_result",
          "data": {
            "text/plain": [
              "20099"
            ]
          },
          "metadata": {},
          "execution_count": 41
        }
      ]
    },
    {
      "cell_type": "markdown",
      "source": [
        "Create our model args dict."
      ],
      "metadata": {
        "id": "V7bcNelYARmD"
      }
    },
    {
      "cell_type": "code",
      "source": [
        "model_args = dict(n_layer=n_layer, n_head=n_head, n_embd=n_embd, block_size=block_size,\n",
        "                  bias=bias, vocab_size=None, dropout=dropout)"
      ],
      "metadata": {
        "id": "JfIWEbanV7ZS"
      },
      "execution_count": null,
      "outputs": []
    },
    {
      "cell_type": "markdown",
      "source": [
        "Instantiate our model with the provided `model_args`.\n",
        "\n",
        "These are derived from the hyper-parameters we set above."
      ],
      "metadata": {
        "id": "2WWcbkiCAUI2"
      }
    },
    {
      "cell_type": "code",
      "source": [
        "if init_from == 'scratch':\n",
        "    print(\"Initializing a new model from scratch\")\n",
        "    if meta_vocab_size is None:\n",
        "        print(\"defaulting to vocab_size of GPT-2 to 50304 (50257 rounded up for efficiency)\")\n",
        "    model_args['vocab_size'] = meta_vocab_size if meta_vocab_size is not None else 50304\n",
        "    gptconf = GPTConfig(**model_args)\n",
        "    model = GPT(gptconf)"
      ],
      "metadata": {
        "colab": {
          "base_uri": "https://localhost:8080/"
        },
        "id": "1Xly4iA0V-vF",
        "outputId": "9b192cd6-967d-4c4f-df14-9651b6c5bac9"
      },
      "execution_count": null,
      "outputs": [
        {
          "output_type": "stream",
          "name": "stdout",
          "text": [
            "Initializing a new model from scratch\n",
            "number of parameters: 29.55M\n"
          ]
        }
      ]
    },
    {
      "cell_type": "markdown",
      "source": [
        "There we go! If you used the default values - you should have a model with 29.55M parameters!\n",
        "\n",
        "Let's set our block_size to the correct size as determined in our configuration steps."
      ],
      "metadata": {
        "id": "BpViOsxLAl6p"
      }
    },
    {
      "cell_type": "code",
      "source": [
        "if block_size < model.config.block_size:\n",
        "    model.crop_block_size(block_size)\n",
        "    model_args['block_size'] = block_size"
      ],
      "metadata": {
        "id": "TrEawNxdWRhm"
      },
      "execution_count": null,
      "outputs": []
    },
    {
      "cell_type": "markdown",
      "source": [
        "Now we can look at our model in all its glory!"
      ],
      "metadata": {
        "id": "eRgguPLKAuZ5"
      }
    },
    {
      "cell_type": "code",
      "source": [
        "model.to(device)"
      ],
      "metadata": {
        "colab": {
          "base_uri": "https://localhost:8080/"
        },
        "id": "zaE3KSTnAtJs",
        "outputId": "9dcae01f-2bdd-4d63-cb1e-8801dcaae293"
      },
      "execution_count": null,
      "outputs": [
        {
          "output_type": "execute_result",
          "data": {
            "text/plain": [
              "GPT(\n",
              "  (transformer): ModuleDict(\n",
              "    (wte): Embedding(20099, 516)\n",
              "    (wpe): Embedding(512, 516)\n",
              "    (drop): Dropout(p=0.2, inplace=False)\n",
              "    (h): ModuleList(\n",
              "      (0-5): 6 x Block(\n",
              "        (ln_1): LayerNorm()\n",
              "        (attn): CausalSelfAttention(\n",
              "          (c_attn): Linear(in_features=516, out_features=1548, bias=False)\n",
              "          (c_proj): Linear(in_features=516, out_features=516, bias=False)\n",
              "          (attn_dropout): Dropout(p=0.2, inplace=False)\n",
              "          (resid_dropout): Dropout(p=0.2, inplace=False)\n",
              "        )\n",
              "        (ln_2): LayerNorm()\n",
              "        (mlp): MLP(\n",
              "          (c_fc): Linear(in_features=516, out_features=2064, bias=False)\n",
              "          (gelu): GELU(approximate='none')\n",
              "          (c_proj): Linear(in_features=2064, out_features=516, bias=False)\n",
              "          (dropout): Dropout(p=0.2, inplace=False)\n",
              "        )\n",
              "      )\n",
              "    )\n",
              "    (ln_f): LayerNorm()\n",
              "  )\n",
              "  (lm_head): Linear(in_features=516, out_features=20099, bias=False)\n",
              ")"
            ]
          },
          "metadata": {},
          "execution_count": 45
        }
      ]
    },
    {
      "cell_type": "markdown",
      "source": [
        "We'll set up our GradScaler - more information on this process [here](https://pytorch.org/docs/stable/amp.html#gradient-scaling)."
      ],
      "metadata": {
        "id": "LzoEY6gcBOSp"
      }
    },
    {
      "cell_type": "code",
      "source": [
        "scaler = torch.cuda.amp.GradScaler(enabled=(dtype == 'float16'))"
      ],
      "metadata": {
        "id": "BNUThRt4WT5H"
      },
      "execution_count": null,
      "outputs": []
    },
    {
      "cell_type": "markdown",
      "source": [
        "Let's set up our optimizer below. Be sure to include the correct values. You can check the `model.py` file for more information on what is expected in the `configure_optimizers` method [here](https://github.com/karpathy/nanoGPT/blob/eba36e84649f3c6d840a93092cb779a260544d08/model.py#L263C85-L263C85)."
      ],
      "metadata": {
        "id": "6Zs5Hcf9BBUD"
      }
    },
    {
      "cell_type": "code",
      "source": [
        "optimizer = model.configure_optimizers(\n",
        "    weight_decay,\n",
        "    learning_rate,\n",
        "    (beta1, beta2),\n",
        "    device_type\n",
        ")\n",
        "\n",
        "checkpoint = None"
      ],
      "metadata": {
        "colab": {
          "base_uri": "https://localhost:8080/"
        },
        "id": "YesGeUnoWViL",
        "outputId": "34e3f54b-22e0-4809-a435-f41423e3d1ae"
      },
      "execution_count": null,
      "outputs": [
        {
          "output_type": "stream",
          "name": "stdout",
          "text": [
            "num decayed parameter tensors: 26, with 29,805,708 parameters\n",
            "num non-decayed parameter tensors: 13, with 6,708 parameters\n",
            "using fused AdamW: True\n"
          ]
        }
      ]
    },
    {
      "cell_type": "markdown",
      "source": [
        "Now we can compile our model!\n",
        "\n",
        "If you're using the T4 or V100 instance of Colab - this will not provide a signficant speed-up, but if you're using Ampere architecture (A100) you should notice a significant difference between the compiled and uncompiled model.\n",
        "\n",
        "Read more about `torch.compile()` [here](https://pytorch.org/tutorials/intermediate/torch_compile_tutorial.html)."
      ],
      "metadata": {
        "id": "ZF5YWJoKB4og"
      }
    },
    {
      "cell_type": "code",
      "source": [
        "if compile:\n",
        "    print(\"compiling the model... (takes a ~minute)\")\n",
        "    unoptimized_model = model\n",
        "    model = torch.compile(model) # requires PyTorch 2.0"
      ],
      "metadata": {
        "colab": {
          "base_uri": "https://localhost:8080/"
        },
        "id": "v0FNU0T0WXdI",
        "outputId": "c4181a53-d43b-41c0-fd84-4c514673fade"
      },
      "execution_count": null,
      "outputs": [
        {
          "output_type": "stream",
          "name": "stdout",
          "text": [
            "compiling the model... (takes a ~minute)\n"
          ]
        }
      ]
    },
    {
      "cell_type": "markdown",
      "source": [
        "We'll set up our loss estimation function here, which will help us estimate an arbitrarily accurate loss over either training or validation data by using many batches.\n",
        "\n",
        "You'll notice that we quickly convert the model into `.eval()` model and then back to `.train()` mode."
      ],
      "metadata": {
        "id": "p6lRcVsZCXRO"
      }
    },
    {
      "cell_type": "code",
      "source": [
        "@torch.no_grad()\n",
        "def estimate_loss():\n",
        "    out = {}\n",
        "    model.eval()\n",
        "    for split in ['train', 'val']:\n",
        "        losses = torch.zeros(eval_iters)\n",
        "        for k in range(eval_iters):\n",
        "            X, Y = get_batch(split)\n",
        "            with ctx:\n",
        "                logits, loss = model(X, Y)\n",
        "            losses[k] = loss.item()\n",
        "        out[split] = losses.mean()\n",
        "    model.train()\n",
        "    return out"
      ],
      "metadata": {
        "id": "lUB5zVLVWbhM"
      },
      "execution_count": null,
      "outputs": []
    },
    {
      "cell_type": "markdown",
      "source": [
        "### Creating our LR Scheduler\n",
        "\n",
        "Beyond just slowly reducing our learning rate over time - we can use an LR Scheduler to allow us to move our learning according to a desired pattern.\n",
        "\n",
        "We will use a \"cosine with warmup\" schedule and our learning rate, thusly, will follow this pattern:\n",
        "\n",
        "![img](https://i.imgur.com/KoFEl0b.png)\n",
        "\n",
        "There are many different schedulers, and many different ways to handle learning rate, and you can read about just a few of them [here](https://d2l.ai/chapter_optimization/lr-scheduler.html)!"
      ],
      "metadata": {
        "id": "fLsOpaACDDkF"
      }
    },
    {
      "cell_type": "code",
      "source": [
        "def get_lr(it):\n",
        "    # 1) linear warmup for warmup_iters steps\n",
        "    if it < warmup_iters:\n",
        "        return learning_rate * it / warmup_iters\n",
        "    # 2) if it > lr_decay_iters, return min learning rate\n",
        "    if it > lr_decay_iters:\n",
        "        return min_lr\n",
        "    # 3) in between, use cosine decay down to min learning rate\n",
        "    decay_ratio = (it - warmup_iters) / (lr_decay_iters - warmup_iters)\n",
        "    assert 0 <= decay_ratio <= 1\n",
        "    coeff = 0.5 * (1.0 + math.cos(math.pi * decay_ratio)) # coeff ranges 0..1\n",
        "    return min_lr + coeff * (learning_rate - min_lr)"
      ],
      "metadata": {
        "id": "7-mNpWBSWdHh"
      },
      "execution_count": null,
      "outputs": []
    },
    {
      "cell_type": "markdown",
      "source": [
        "We need to set some specific values in our env to allow training in Colab."
      ],
      "metadata": {
        "id": "cqFePCZmE1Lq"
      }
    },
    {
      "cell_type": "code",
      "source": [
        "!export LC_ALL=\"en_US.UTF-8\"\n",
        "!export LD_LIBRARY_PATH=\"/usr/lib64-nvidia\"\n",
        "!export LIBRARY_PATH=\"/usr/local/cuda/lib64/stubs\"\n",
        "!ldconfig /usr/lib64-nvidia"
      ],
      "metadata": {
        "colab": {
          "base_uri": "https://localhost:8080/"
        },
        "id": "-7nDL6s4YT6E",
        "outputId": "c619d8db-8d4e-491d-b518-82f86bdbb8df"
      },
      "execution_count": null,
      "outputs": [
        {
          "output_type": "stream",
          "name": "stdout",
          "text": [
            "/sbin/ldconfig.real: /usr/local/lib/libtbb.so.12 is not a symbolic link\n",
            "\n",
            "/sbin/ldconfig.real: /usr/local/lib/libtbbbind.so.3 is not a symbolic link\n",
            "\n",
            "/sbin/ldconfig.real: /usr/local/lib/libtbbbind_2_0.so.3 is not a symbolic link\n",
            "\n",
            "/sbin/ldconfig.real: /usr/local/lib/libtbbmalloc.so.2 is not a symbolic link\n",
            "\n",
            "/sbin/ldconfig.real: /usr/local/lib/libtbbmalloc_proxy.so.2 is not a symbolic link\n",
            "\n",
            "/sbin/ldconfig.real: /usr/local/lib/libtbbbind_2_5.so.3 is not a symbolic link\n",
            "\n"
          ]
        }
      ]
    },
    {
      "cell_type": "markdown",
      "source": [
        "## The Training Loop\n",
        "\n",
        "Now we can finally grab our first batch and set our initial time to calculate how long our iterations are taking!"
      ],
      "metadata": {
        "id": "Nhqmxeo0Eg0Z"
      }
    },
    {
      "cell_type": "code",
      "source": [
        "X, Y = get_batch('train')\n",
        "t0 = time.time()\n",
        "local_iter_num = 0\n",
        "raw_model = model\n",
        "running_mfu = -1.0 # model flops utilization\n",
        "\n",
        "while True:\n",
        "    # determine and set the learning rate for this iteration\n",
        "    lr = get_lr(iter_num) if decay_lr else learning_rate\n",
        "    for param_group in optimizer.param_groups:\n",
        "        param_group['lr'] = lr\n",
        "\n",
        "    # evaluate the loss on train/val sets and write checkpoints\n",
        "    if iter_num % eval_interval == 0 and master_process:\n",
        "        losses = estimate_loss()\n",
        "        print(f\"step {iter_num}: train loss {losses['train']:.4f}, val loss {losses['val']:.4f}\")\n",
        "        if losses['val'] < best_val_loss or always_save_checkpoint:\n",
        "            best_val_loss = losses['val']\n",
        "            if iter_num > 0:\n",
        "                checkpoint = {\n",
        "                    'model': raw_model.state_dict(),\n",
        "                    'optimizer': optimizer.state_dict(),\n",
        "                    'model_args': model_args,\n",
        "                    'iter_num': iter_num,\n",
        "                    'best_val_loss': best_val_loss,\n",
        "                    'config': config,\n",
        "                }\n",
        "                print(f\"saving checkpoint to {out_dir}\")\n",
        "                torch.save(checkpoint, os.path.join(out_dir, 'ckpt.pt'))\n",
        "    if iter_num == 0 and eval_only:\n",
        "        break\n",
        "\n",
        "    # forward backward update, with optional gradient accumulation to simulate larger batch size\n",
        "    # and using the GradScaler if data type is float16\n",
        "    for micro_step in range(gradient_accumulation_steps):\n",
        "        with ctx:\n",
        "            logits, loss = model(X, Y)\n",
        "            loss = loss / gradient_accumulation_steps # scale the loss to account for gradient accumulation\n",
        "        # immediately async prefetch next batch while model is doing the forward pass on the GPU\n",
        "        X, Y = get_batch('train')\n",
        "        # backward pass, with gradient scaling if training in fp16\n",
        "        scaler.scale(loss).backward()\n",
        "    # clip the gradient\n",
        "    if grad_clip != 0.0:\n",
        "        scaler.unscale_(optimizer)\n",
        "        torch.nn.utils.clip_grad_norm_(model.parameters(), grad_clip)\n",
        "    # step the optimizer and scaler if training in fp16\n",
        "    scaler.step(optimizer)\n",
        "    scaler.update()\n",
        "    # flush the gradients as soon as we can, no need for this memory anymore\n",
        "    optimizer.zero_grad(set_to_none=True)\n",
        "\n",
        "    # timing and logging\n",
        "    t1 = time.time()\n",
        "    dt = t1 - t0\n",
        "    t0 = t1\n",
        "    if iter_num % log_interval == 0 and master_process:\n",
        "        # get loss as float. note: this is a CPU-GPU sync point\n",
        "        # scale up to undo the division above, approximating the true total loss (exact would have been a sum)\n",
        "        lossf = loss.item() * gradient_accumulation_steps\n",
        "        if local_iter_num >= 5: # let the training loop settle a bit\n",
        "            mfu = raw_model.estimate_mfu(batch_size * gradient_accumulation_steps, dt)\n",
        "            running_mfu = mfu if running_mfu == -1.0 else 0.9*running_mfu + 0.1*mfu\n",
        "        print(f\"iter {iter_num}: loss {lossf:.4f}, time {dt*1000:.2f}ms, mfu {running_mfu*100:.2f}%\")\n",
        "    iter_num += 1\n",
        "    local_iter_num += 1\n",
        "\n",
        "    # termination conditions\n",
        "    if iter_num > max_iters:\n",
        "        break"
      ],
      "metadata": {
        "colab": {
          "base_uri": "https://localhost:8080/"
        },
        "id": "kHbyEapRWmpc",
        "outputId": "b93a0c7c-97d8-4fe9-ed71-875249952fc7"
      },
      "execution_count": null,
      "outputs": [
        {
          "output_type": "stream",
          "name": "stdout",
          "text": [
            "step 0: train loss 10.0506, val loss 10.0579\n",
            "iter 0: loss 10.0381, time 74905.39ms, mfu -100.00%\n",
            "iter 10: loss 8.4134, time 189.95ms, mfu 2.71%\n",
            "iter 20: loss 7.3981, time 193.10ms, mfu 2.71%\n",
            "iter 30: loss 6.3789, time 193.01ms, mfu 2.71%\n",
            "iter 40: loss 5.8305, time 192.46ms, mfu 2.70%\n",
            "iter 50: loss 5.6905, time 196.06ms, mfu 2.70%\n",
            "iter 60: loss 5.4390, time 194.84ms, mfu 2.69%\n",
            "iter 70: loss 5.2298, time 194.08ms, mfu 2.69%\n",
            "iter 80: loss 4.8046, time 197.21ms, mfu 2.68%\n",
            "iter 90: loss 4.8442, time 196.38ms, mfu 2.67%\n",
            "iter 100: loss 4.7291, time 197.21ms, mfu 2.67%\n",
            "iter 110: loss 4.7836, time 197.60ms, mfu 2.66%\n",
            "iter 120: loss 4.6521, time 197.58ms, mfu 2.66%\n",
            "iter 130: loss 4.3794, time 197.76ms, mfu 2.65%\n",
            "iter 140: loss 4.5538, time 199.06ms, mfu 2.65%\n",
            "iter 150: loss 4.3937, time 198.48ms, mfu 2.64%\n",
            "iter 160: loss 4.2152, time 200.38ms, mfu 2.63%\n",
            "iter 170: loss 4.1527, time 201.91ms, mfu 2.63%\n",
            "iter 180: loss 4.3082, time 200.51ms, mfu 2.62%\n",
            "iter 190: loss 4.2657, time 200.74ms, mfu 2.61%\n",
            "iter 200: loss 4.1573, time 202.67ms, mfu 2.61%\n",
            "iter 210: loss 4.1417, time 202.35ms, mfu 2.60%\n",
            "iter 220: loss 4.2442, time 201.63ms, mfu 2.60%\n",
            "iter 230: loss 4.0890, time 203.66ms, mfu 2.59%\n",
            "iter 240: loss 4.2116, time 206.21ms, mfu 2.58%\n",
            "step 250: train loss 3.9514, val loss 4.9442\n",
            "saving checkpoint to out\n",
            "iter 250: loss 3.9622, time 22464.43ms, mfu 2.33%\n",
            "iter 260: loss 3.9480, time 202.58ms, mfu 2.35%\n",
            "iter 270: loss 3.8646, time 201.51ms, mfu 2.37%\n",
            "iter 280: loss 3.7430, time 200.64ms, mfu 2.39%\n",
            "iter 290: loss 4.0322, time 203.09ms, mfu 2.40%\n",
            "iter 300: loss 3.6961, time 202.12ms, mfu 2.42%\n",
            "iter 310: loss 3.8208, time 203.10ms, mfu 2.43%\n",
            "iter 320: loss 3.7735, time 204.32ms, mfu 2.44%\n",
            "iter 330: loss 3.8474, time 200.28ms, mfu 2.45%\n",
            "iter 340: loss 3.7938, time 198.28ms, mfu 2.47%\n",
            "iter 350: loss 3.8374, time 201.04ms, mfu 2.48%\n",
            "iter 360: loss 3.6622, time 198.13ms, mfu 2.49%\n",
            "iter 370: loss 3.7821, time 199.91ms, mfu 2.50%\n",
            "iter 380: loss 3.5398, time 199.81ms, mfu 2.51%\n",
            "iter 390: loss 3.5787, time 199.02ms, mfu 2.51%\n",
            "iter 400: loss 3.5608, time 198.74ms, mfu 2.52%\n",
            "iter 410: loss 3.6996, time 200.05ms, mfu 2.53%\n",
            "iter 420: loss 3.7220, time 200.93ms, mfu 2.53%\n",
            "iter 430: loss 3.5919, time 197.92ms, mfu 2.54%\n",
            "iter 440: loss 3.7779, time 199.55ms, mfu 2.54%\n",
            "iter 450: loss 3.4254, time 201.89ms, mfu 2.54%\n",
            "iter 460: loss 3.4366, time 200.59ms, mfu 2.55%\n",
            "iter 470: loss 3.4301, time 201.28ms, mfu 2.55%\n",
            "iter 480: loss 3.5346, time 203.03ms, mfu 2.55%\n",
            "iter 490: loss 3.4867, time 199.01ms, mfu 2.55%\n",
            "step 500: train loss 3.3410, val loss 5.1343\n",
            "saving checkpoint to out\n",
            "iter 500: loss 3.2119, time 21957.45ms, mfu 2.30%\n",
            "iter 510: loss 3.3819, time 201.62ms, mfu 2.32%\n",
            "iter 520: loss 3.4939, time 201.68ms, mfu 2.35%\n",
            "iter 530: loss 3.3026, time 204.27ms, mfu 2.37%\n",
            "iter 540: loss 3.3750, time 203.17ms, mfu 2.38%\n",
            "iter 550: loss 3.4140, time 202.98ms, mfu 2.40%\n",
            "iter 560: loss 3.3274, time 202.17ms, mfu 2.41%\n",
            "iter 570: loss 3.3824, time 200.77ms, mfu 2.43%\n",
            "iter 580: loss 3.2017, time 202.00ms, mfu 2.44%\n",
            "iter 590: loss 3.1726, time 202.80ms, mfu 2.45%\n",
            "iter 600: loss 3.1424, time 202.77ms, mfu 2.46%\n",
            "iter 610: loss 3.1382, time 202.66ms, mfu 2.47%\n",
            "iter 620: loss 3.0559, time 202.77ms, mfu 2.48%\n",
            "iter 630: loss 3.0031, time 203.57ms, mfu 2.48%\n",
            "iter 640: loss 3.1331, time 202.17ms, mfu 2.49%\n",
            "iter 650: loss 3.0056, time 201.32ms, mfu 2.50%\n",
            "iter 660: loss 3.0581, time 203.75ms, mfu 2.50%\n",
            "iter 670: loss 3.2017, time 202.87ms, mfu 2.50%\n",
            "iter 680: loss 3.1114, time 201.73ms, mfu 2.51%\n",
            "iter 690: loss 3.0592, time 202.15ms, mfu 2.51%\n",
            "iter 700: loss 2.8466, time 202.34ms, mfu 2.52%\n",
            "iter 710: loss 2.8785, time 202.92ms, mfu 2.52%\n",
            "iter 720: loss 2.9119, time 202.51ms, mfu 2.52%\n",
            "iter 730: loss 2.9158, time 204.25ms, mfu 2.52%\n",
            "iter 740: loss 2.8897, time 202.21ms, mfu 2.52%\n",
            "step 750: train loss 2.6483, val loss 5.4530\n",
            "saving checkpoint to out\n",
            "iter 750: loss 2.9148, time 21789.70ms, mfu 2.27%\n",
            "iter 760: loss 2.7109, time 201.34ms, mfu 2.30%\n",
            "iter 770: loss 2.6267, time 204.24ms, mfu 2.32%\n",
            "iter 780: loss 2.9665, time 202.19ms, mfu 2.35%\n",
            "iter 790: loss 2.7378, time 200.75ms, mfu 2.37%\n",
            "iter 800: loss 2.7860, time 201.06ms, mfu 2.39%\n",
            "iter 810: loss 2.4852, time 203.82ms, mfu 2.40%\n",
            "iter 820: loss 2.6461, time 204.31ms, mfu 2.41%\n",
            "iter 830: loss 2.6236, time 199.20ms, mfu 2.43%\n",
            "iter 840: loss 2.6417, time 202.89ms, mfu 2.44%\n",
            "iter 850: loss 2.4884, time 204.28ms, mfu 2.45%\n",
            "iter 860: loss 2.5327, time 203.12ms, mfu 2.46%\n",
            "iter 870: loss 2.4326, time 202.11ms, mfu 2.47%\n",
            "iter 880: loss 2.4137, time 202.47ms, mfu 2.48%\n",
            "iter 890: loss 2.3561, time 202.56ms, mfu 2.48%\n",
            "iter 900: loss 2.4123, time 202.20ms, mfu 2.49%\n",
            "iter 910: loss 2.5622, time 202.29ms, mfu 2.50%\n",
            "iter 920: loss 2.4838, time 202.44ms, mfu 2.50%\n",
            "iter 930: loss 2.4160, time 202.27ms, mfu 2.51%\n",
            "iter 940: loss 2.2365, time 202.56ms, mfu 2.51%\n",
            "iter 950: loss 2.3646, time 200.99ms, mfu 2.51%\n",
            "iter 960: loss 2.2745, time 203.12ms, mfu 2.52%\n",
            "iter 970: loss 2.3728, time 201.52ms, mfu 2.52%\n",
            "iter 980: loss 2.1759, time 202.18ms, mfu 2.52%\n",
            "iter 990: loss 2.1640, time 203.45ms, mfu 2.52%\n",
            "step 1000: train loss 1.8919, val loss 5.9250\n",
            "saving checkpoint to out\n",
            "iter 1000: loss 2.2658, time 22082.00ms, mfu 2.27%\n",
            "iter 1010: loss 2.1036, time 199.73ms, mfu 2.31%\n",
            "iter 1020: loss 2.0014, time 204.53ms, mfu 2.33%\n",
            "iter 1030: loss 2.2283, time 202.90ms, mfu 2.35%\n",
            "iter 1040: loss 2.0605, time 202.75ms, mfu 2.37%\n",
            "iter 1050: loss 1.9974, time 201.79ms, mfu 2.39%\n",
            "iter 1060: loss 2.0007, time 201.08ms, mfu 2.40%\n",
            "iter 1070: loss 1.9564, time 203.56ms, mfu 2.42%\n",
            "iter 1080: loss 1.9965, time 202.40ms, mfu 2.43%\n",
            "iter 1090: loss 2.0296, time 204.21ms, mfu 2.44%\n",
            "iter 1100: loss 2.0319, time 202.73ms, mfu 2.45%\n",
            "iter 1110: loss 1.9809, time 202.82ms, mfu 2.46%\n",
            "iter 1120: loss 1.9575, time 203.01ms, mfu 2.47%\n",
            "iter 1130: loss 1.9559, time 204.44ms, mfu 2.47%\n",
            "iter 1140: loss 1.8446, time 202.31ms, mfu 2.48%\n",
            "iter 1150: loss 1.7612, time 198.77ms, mfu 2.49%\n",
            "iter 1160: loss 1.8189, time 204.70ms, mfu 2.49%\n",
            "iter 1170: loss 1.8399, time 202.51ms, mfu 2.50%\n",
            "iter 1180: loss 1.7970, time 202.52ms, mfu 2.50%\n",
            "iter 1190: loss 1.8827, time 203.02ms, mfu 2.51%\n",
            "iter 1200: loss 1.7573, time 200.38ms, mfu 2.51%\n",
            "iter 1210: loss 1.7600, time 201.64ms, mfu 2.52%\n",
            "iter 1220: loss 1.7020, time 204.15ms, mfu 2.52%\n",
            "iter 1230: loss 1.6845, time 200.25ms, mfu 2.52%\n",
            "iter 1240: loss 1.6749, time 204.50ms, mfu 2.52%\n",
            "step 1250: train loss 1.2888, val loss 6.3887\n",
            "saving checkpoint to out\n",
            "iter 1250: loss 1.6995, time 22023.40ms, mfu 2.27%\n",
            "iter 1260: loss 1.7573, time 203.39ms, mfu 2.30%\n",
            "iter 1270: loss 1.5240, time 201.90ms, mfu 2.33%\n",
            "iter 1280: loss 1.5668, time 203.03ms, mfu 2.35%\n",
            "iter 1290: loss 1.5368, time 203.27ms, mfu 2.37%\n",
            "iter 1300: loss 1.7102, time 202.40ms, mfu 2.38%\n",
            "iter 1310: loss 1.6988, time 200.72ms, mfu 2.40%\n",
            "iter 1320: loss 1.6427, time 199.82ms, mfu 2.42%\n",
            "iter 1330: loss 1.4564, time 204.98ms, mfu 2.43%\n",
            "iter 1340: loss 1.3488, time 202.10ms, mfu 2.44%\n",
            "iter 1350: loss 1.6832, time 205.20ms, mfu 2.45%\n",
            "iter 1360: loss 1.6018, time 203.82ms, mfu 2.46%\n",
            "iter 1370: loss 1.4510, time 201.63ms, mfu 2.47%\n",
            "iter 1380: loss 1.4528, time 203.03ms, mfu 2.47%\n",
            "iter 1390: loss 1.3800, time 200.96ms, mfu 2.48%\n",
            "iter 1400: loss 1.4601, time 202.37ms, mfu 2.49%\n",
            "iter 1410: loss 1.4221, time 202.18ms, mfu 2.50%\n",
            "iter 1420: loss 1.4785, time 202.55ms, mfu 2.50%\n",
            "iter 1430: loss 1.3883, time 202.36ms, mfu 2.50%\n",
            "iter 1440: loss 1.3697, time 203.77ms, mfu 2.51%\n",
            "iter 1450: loss 1.4182, time 205.36ms, mfu 2.51%\n",
            "iter 1460: loss 1.2315, time 201.60ms, mfu 2.51%\n",
            "iter 1470: loss 1.3588, time 203.13ms, mfu 2.52%\n",
            "iter 1480: loss 1.4055, time 203.39ms, mfu 2.52%\n",
            "iter 1490: loss 1.3683, time 203.27ms, mfu 2.52%\n",
            "step 1500: train loss 0.9028, val loss 6.8548\n",
            "saving checkpoint to out\n",
            "iter 1500: loss 1.3807, time 22088.87ms, mfu 2.27%\n",
            "iter 1510: loss 1.3483, time 201.78ms, mfu 2.30%\n",
            "iter 1520: loss 1.4600, time 203.60ms, mfu 2.32%\n",
            "iter 1530: loss 1.2755, time 203.70ms, mfu 2.34%\n",
            "iter 1540: loss 1.3887, time 203.70ms, mfu 2.36%\n",
            "iter 1550: loss 1.2301, time 201.79ms, mfu 2.38%\n",
            "iter 1560: loss 1.3240, time 202.82ms, mfu 2.40%\n",
            "iter 1570: loss 1.3064, time 202.39ms, mfu 2.41%\n",
            "iter 1580: loss 1.2842, time 202.52ms, mfu 2.42%\n",
            "iter 1590: loss 1.2408, time 201.65ms, mfu 2.44%\n",
            "iter 1600: loss 1.1793, time 200.81ms, mfu 2.45%\n",
            "iter 1610: loss 1.2074, time 201.53ms, mfu 2.46%\n",
            "iter 1620: loss 1.1582, time 203.82ms, mfu 2.47%\n",
            "iter 1630: loss 1.2412, time 205.41ms, mfu 2.47%\n",
            "iter 1640: loss 1.1642, time 203.25ms, mfu 2.48%\n",
            "iter 1650: loss 1.1681, time 204.40ms, mfu 2.48%\n",
            "iter 1660: loss 1.1916, time 202.85ms, mfu 2.49%\n",
            "iter 1670: loss 1.1321, time 202.26ms, mfu 2.49%\n",
            "iter 1680: loss 1.1248, time 202.62ms, mfu 2.50%\n",
            "iter 1690: loss 1.1085, time 205.74ms, mfu 2.50%\n",
            "iter 1700: loss 1.1328, time 200.27ms, mfu 2.51%\n",
            "iter 1710: loss 1.1502, time 203.67ms, mfu 2.51%\n",
            "iter 1720: loss 1.1077, time 204.54ms, mfu 2.51%\n",
            "iter 1730: loss 1.1636, time 199.83ms, mfu 2.52%\n",
            "iter 1740: loss 1.0496, time 202.06ms, mfu 2.52%\n",
            "step 1750: train loss 0.6616, val loss 7.1845\n",
            "saving checkpoint to out\n",
            "iter 1750: loss 1.0816, time 22069.74ms, mfu 2.27%\n",
            "iter 1760: loss 1.0095, time 202.07ms, mfu 2.30%\n",
            "iter 1770: loss 1.0465, time 203.15ms, mfu 2.32%\n",
            "iter 1780: loss 0.9975, time 204.21ms, mfu 2.34%\n",
            "iter 1790: loss 1.0841, time 202.35ms, mfu 2.36%\n",
            "iter 1800: loss 1.1859, time 203.02ms, mfu 2.38%\n",
            "iter 1810: loss 1.0233, time 200.46ms, mfu 2.40%\n",
            "iter 1820: loss 1.0295, time 197.90ms, mfu 2.42%\n",
            "iter 1830: loss 1.1343, time 200.95ms, mfu 2.44%\n",
            "iter 1840: loss 0.9288, time 202.25ms, mfu 2.45%\n",
            "iter 1850: loss 1.0034, time 201.61ms, mfu 2.46%\n",
            "iter 1860: loss 1.0406, time 202.25ms, mfu 2.47%\n",
            "iter 1870: loss 0.9361, time 202.53ms, mfu 2.47%\n",
            "iter 1880: loss 0.9342, time 202.92ms, mfu 2.48%\n",
            "iter 1890: loss 1.0137, time 201.81ms, mfu 2.49%\n",
            "iter 1900: loss 1.0867, time 204.11ms, mfu 2.49%\n",
            "iter 1910: loss 1.0111, time 204.47ms, mfu 2.49%\n",
            "iter 1920: loss 0.8396, time 201.96ms, mfu 2.50%\n",
            "iter 1930: loss 0.9156, time 204.75ms, mfu 2.50%\n",
            "iter 1940: loss 0.8721, time 202.22ms, mfu 2.51%\n",
            "iter 1950: loss 0.9199, time 202.50ms, mfu 2.51%\n",
            "iter 1960: loss 0.9612, time 202.69ms, mfu 2.51%\n",
            "iter 1970: loss 0.9258, time 203.93ms, mfu 2.52%\n",
            "iter 1980: loss 0.9237, time 202.12ms, mfu 2.52%\n",
            "iter 1990: loss 0.8938, time 202.17ms, mfu 2.52%\n",
            "step 2000: train loss 0.5123, val loss 7.5424\n",
            "saving checkpoint to out\n",
            "iter 2000: loss 0.9095, time 22021.14ms, mfu 2.27%\n",
            "iter 2010: loss 0.9154, time 202.90ms, mfu 2.30%\n",
            "iter 2020: loss 0.8275, time 201.72ms, mfu 2.32%\n",
            "iter 2030: loss 0.8768, time 203.72ms, mfu 2.35%\n",
            "iter 2040: loss 0.8116, time 203.74ms, mfu 2.36%\n",
            "iter 2050: loss 0.7890, time 200.70ms, mfu 2.38%\n",
            "iter 2060: loss 0.8331, time 202.14ms, mfu 2.40%\n",
            "iter 2070: loss 0.8625, time 205.16ms, mfu 2.41%\n",
            "iter 2080: loss 0.8081, time 202.62ms, mfu 2.43%\n",
            "iter 2090: loss 0.8589, time 202.51ms, mfu 2.44%\n",
            "iter 2100: loss 0.8578, time 202.91ms, mfu 2.45%\n",
            "iter 2110: loss 0.8938, time 201.19ms, mfu 2.46%\n",
            "iter 2120: loss 0.8362, time 202.78ms, mfu 2.47%\n",
            "iter 2130: loss 0.7435, time 201.26ms, mfu 2.48%\n",
            "iter 2140: loss 0.7803, time 201.81ms, mfu 2.48%\n",
            "iter 2150: loss 0.7902, time 202.56ms, mfu 2.49%\n",
            "iter 2160: loss 0.8154, time 204.46ms, mfu 2.49%\n",
            "iter 2170: loss 0.7944, time 201.59ms, mfu 2.50%\n",
            "iter 2180: loss 0.7548, time 202.53ms, mfu 2.50%\n",
            "iter 2190: loss 0.8566, time 203.68ms, mfu 2.51%\n",
            "iter 2200: loss 0.7990, time 203.28ms, mfu 2.51%\n",
            "iter 2210: loss 0.7581, time 203.10ms, mfu 2.51%\n",
            "iter 2220: loss 0.8293, time 203.33ms, mfu 2.51%\n",
            "iter 2230: loss 0.7742, time 202.86ms, mfu 2.52%\n",
            "iter 2240: loss 0.7298, time 203.25ms, mfu 2.52%\n",
            "step 2250: train loss 0.3858, val loss 7.8283\n",
            "saving checkpoint to out\n",
            "iter 2250: loss 0.7791, time 22085.75ms, mfu 2.27%\n",
            "iter 2260: loss 0.6766, time 202.90ms, mfu 2.30%\n",
            "iter 2270: loss 0.7281, time 202.51ms, mfu 2.32%\n",
            "iter 2280: loss 0.7147, time 202.34ms, mfu 2.34%\n",
            "iter 2290: loss 0.6849, time 201.54ms, mfu 2.37%\n",
            "iter 2300: loss 0.6799, time 203.50ms, mfu 2.38%\n",
            "iter 2310: loss 0.6888, time 203.82ms, mfu 2.40%\n",
            "iter 2320: loss 0.6806, time 201.49ms, mfu 2.41%\n",
            "iter 2330: loss 0.6924, time 203.55ms, mfu 2.42%\n",
            "iter 2340: loss 0.6945, time 202.49ms, mfu 2.44%\n",
            "iter 2350: loss 0.6438, time 203.34ms, mfu 2.45%\n",
            "iter 2360: loss 0.7374, time 203.18ms, mfu 2.46%\n",
            "iter 2370: loss 0.6139, time 201.99ms, mfu 2.47%\n",
            "iter 2380: loss 0.6783, time 202.49ms, mfu 2.47%\n",
            "iter 2390: loss 0.6788, time 203.05ms, mfu 2.48%\n",
            "iter 2400: loss 0.6285, time 201.81ms, mfu 2.49%\n",
            "iter 2410: loss 0.6221, time 203.54ms, mfu 2.49%\n",
            "iter 2420: loss 0.7083, time 203.55ms, mfu 2.50%\n",
            "iter 2430: loss 0.6074, time 202.88ms, mfu 2.50%\n",
            "iter 2440: loss 0.6651, time 201.63ms, mfu 2.51%\n",
            "iter 2450: loss 0.6770, time 202.89ms, mfu 2.51%\n",
            "iter 2460: loss 0.5663, time 202.00ms, mfu 2.51%\n",
            "iter 2470: loss 0.6658, time 200.33ms, mfu 2.52%\n",
            "iter 2480: loss 0.6216, time 203.14ms, mfu 2.52%\n",
            "iter 2490: loss 0.6006, time 202.23ms, mfu 2.52%\n",
            "step 2500: train loss 0.2968, val loss 8.0955\n",
            "saving checkpoint to out\n",
            "iter 2500: loss 0.5929, time 21988.67ms, mfu 2.27%\n",
            "iter 2510: loss 0.6047, time 202.20ms, mfu 2.30%\n",
            "iter 2520: loss 0.6827, time 201.30ms, mfu 2.33%\n",
            "iter 2530: loss 0.6445, time 201.59ms, mfu 2.35%\n",
            "iter 2540: loss 0.5791, time 200.88ms, mfu 2.37%\n",
            "iter 2550: loss 0.6104, time 202.72ms, mfu 2.39%\n",
            "iter 2560: loss 0.6138, time 201.40ms, mfu 2.41%\n",
            "iter 2570: loss 0.6074, time 203.52ms, mfu 2.42%\n",
            "iter 2580: loss 0.5848, time 204.39ms, mfu 2.43%\n",
            "iter 2590: loss 0.5808, time 202.29ms, mfu 2.44%\n",
            "iter 2600: loss 0.5474, time 203.35ms, mfu 2.45%\n",
            "iter 2610: loss 0.5897, time 203.43ms, mfu 2.46%\n",
            "iter 2620: loss 0.5675, time 203.87ms, mfu 2.47%\n",
            "iter 2630: loss 0.5723, time 203.35ms, mfu 2.47%\n",
            "iter 2640: loss 0.5548, time 202.61ms, mfu 2.48%\n",
            "iter 2650: loss 0.5720, time 202.37ms, mfu 2.49%\n",
            "iter 2660: loss 0.5401, time 201.58ms, mfu 2.49%\n",
            "iter 2670: loss 0.5544, time 201.45ms, mfu 2.50%\n",
            "iter 2680: loss 0.5703, time 202.32ms, mfu 2.50%\n",
            "iter 2690: loss 0.5476, time 203.22ms, mfu 2.51%\n",
            "iter 2700: loss 0.5709, time 201.89ms, mfu 2.51%\n",
            "iter 2710: loss 0.5161, time 202.01ms, mfu 2.52%\n",
            "iter 2720: loss 0.4975, time 201.85ms, mfu 2.52%\n",
            "iter 2730: loss 0.5195, time 202.83ms, mfu 2.52%\n",
            "iter 2740: loss 0.4883, time 202.52ms, mfu 2.52%\n",
            "step 2750: train loss 0.2308, val loss 8.3152\n",
            "saving checkpoint to out\n",
            "iter 2750: loss 0.5261, time 22125.14ms, mfu 2.27%\n",
            "iter 2760: loss 0.5050, time 202.85ms, mfu 2.30%\n",
            "iter 2770: loss 0.4819, time 201.81ms, mfu 2.33%\n",
            "iter 2780: loss 0.5277, time 201.61ms, mfu 2.35%\n",
            "iter 2790: loss 0.5276, time 201.17ms, mfu 2.37%\n",
            "iter 2800: loss 0.4804, time 202.34ms, mfu 2.39%\n",
            "iter 2810: loss 0.4996, time 202.57ms, mfu 2.40%\n",
            "iter 2820: loss 0.4800, time 202.08ms, mfu 2.42%\n",
            "iter 2830: loss 0.4787, time 204.78ms, mfu 2.43%\n",
            "iter 2840: loss 0.4730, time 204.34ms, mfu 2.44%\n",
            "iter 2850: loss 0.5091, time 202.99ms, mfu 2.45%\n",
            "iter 2860: loss 0.5278, time 204.21ms, mfu 2.46%\n",
            "iter 2870: loss 0.4366, time 202.38ms, mfu 2.46%\n",
            "iter 2880: loss 0.4841, time 202.56ms, mfu 2.47%\n",
            "iter 2890: loss 0.4853, time 200.61ms, mfu 2.48%\n",
            "iter 2900: loss 0.5186, time 204.32ms, mfu 2.49%\n",
            "iter 2910: loss 0.4630, time 202.48ms, mfu 2.49%\n",
            "iter 2920: loss 0.4287, time 200.39ms, mfu 2.50%\n",
            "iter 2930: loss 0.4839, time 202.66ms, mfu 2.50%\n",
            "iter 2940: loss 0.4644, time 202.50ms, mfu 2.51%\n",
            "iter 2950: loss 0.4777, time 202.56ms, mfu 2.51%\n",
            "iter 2960: loss 0.4163, time 203.04ms, mfu 2.51%\n",
            "iter 2970: loss 0.4576, time 202.17ms, mfu 2.52%\n",
            "iter 2980: loss 0.4125, time 202.62ms, mfu 2.52%\n",
            "iter 2990: loss 0.4376, time 201.36ms, mfu 2.52%\n",
            "step 3000: train loss 0.1834, val loss 8.4925\n",
            "saving checkpoint to out\n",
            "iter 3000: loss 0.4209, time 22110.90ms, mfu 2.27%\n",
            "iter 3010: loss 0.4089, time 201.79ms, mfu 2.30%\n",
            "iter 3020: loss 0.4190, time 203.03ms, mfu 2.33%\n",
            "iter 3030: loss 0.4070, time 203.33ms, mfu 2.35%\n",
            "iter 3040: loss 0.4097, time 203.23ms, mfu 2.37%\n",
            "iter 3050: loss 0.4337, time 202.70ms, mfu 2.38%\n",
            "iter 3060: loss 0.3849, time 203.30ms, mfu 2.40%\n",
            "iter 3070: loss 0.4274, time 202.30ms, mfu 2.41%\n",
            "iter 3080: loss 0.4549, time 201.28ms, mfu 2.43%\n",
            "iter 3090: loss 0.4138, time 203.40ms, mfu 2.44%\n",
            "iter 3100: loss 0.4087, time 203.52ms, mfu 2.45%\n",
            "iter 3110: loss 0.3896, time 203.78ms, mfu 2.46%\n",
            "iter 3120: loss 0.4194, time 201.90ms, mfu 2.47%\n",
            "iter 3130: loss 0.4082, time 204.14ms, mfu 2.47%\n",
            "iter 3140: loss 0.4274, time 202.52ms, mfu 2.48%\n",
            "iter 3150: loss 0.4379, time 203.29ms, mfu 2.48%\n",
            "iter 3160: loss 0.4477, time 204.20ms, mfu 2.49%\n",
            "iter 3170: loss 0.4131, time 203.71ms, mfu 2.49%\n",
            "iter 3180: loss 0.3901, time 202.86ms, mfu 2.50%\n",
            "iter 3190: loss 0.3537, time 202.46ms, mfu 2.50%\n",
            "iter 3200: loss 0.3992, time 203.00ms, mfu 2.51%\n",
            "iter 3210: loss 0.4111, time 202.61ms, mfu 2.51%\n",
            "iter 3220: loss 0.3678, time 203.40ms, mfu 2.51%\n",
            "iter 3230: loss 0.3793, time 202.11ms, mfu 2.52%\n",
            "iter 3240: loss 0.3728, time 202.40ms, mfu 2.52%\n",
            "step 3250: train loss 0.1492, val loss 8.6567\n",
            "saving checkpoint to out\n",
            "iter 3250: loss 0.3425, time 22106.95ms, mfu 2.27%\n",
            "iter 3260: loss 0.3188, time 202.11ms, mfu 2.30%\n",
            "iter 3270: loss 0.3884, time 200.52ms, mfu 2.33%\n",
            "iter 3280: loss 0.3599, time 201.59ms, mfu 2.35%\n",
            "iter 3290: loss 0.3765, time 202.13ms, mfu 2.37%\n",
            "iter 3300: loss 0.3554, time 202.35ms, mfu 2.39%\n",
            "iter 3310: loss 0.3665, time 204.32ms, mfu 2.40%\n",
            "iter 3320: loss 0.3378, time 201.38ms, mfu 2.42%\n",
            "iter 3330: loss 0.3566, time 200.28ms, mfu 2.43%\n",
            "iter 3340: loss 0.3401, time 202.77ms, mfu 2.44%\n",
            "iter 3350: loss 0.3927, time 201.61ms, mfu 2.45%\n",
            "iter 3360: loss 0.3763, time 202.43ms, mfu 2.46%\n",
            "iter 3370: loss 0.3338, time 201.63ms, mfu 2.47%\n",
            "iter 3380: loss 0.3377, time 202.29ms, mfu 2.48%\n",
            "iter 3390: loss 0.3275, time 201.50ms, mfu 2.49%\n",
            "iter 3400: loss 0.3382, time 201.25ms, mfu 2.50%\n",
            "iter 3410: loss 0.3351, time 201.24ms, mfu 2.50%\n",
            "iter 3420: loss 0.3534, time 200.58ms, mfu 2.51%\n",
            "iter 3430: loss 0.3338, time 204.05ms, mfu 2.51%\n",
            "iter 3440: loss 0.3363, time 203.91ms, mfu 2.51%\n",
            "iter 3450: loss 0.3176, time 202.28ms, mfu 2.52%\n",
            "iter 3460: loss 0.3439, time 203.85ms, mfu 2.52%\n",
            "iter 3470: loss 0.3384, time 203.02ms, mfu 2.52%\n",
            "iter 3480: loss 0.3498, time 201.97ms, mfu 2.52%\n",
            "iter 3490: loss 0.3530, time 202.55ms, mfu 2.52%\n",
            "step 3500: train loss 0.1261, val loss 8.7471\n",
            "saving checkpoint to out\n",
            "iter 3500: loss 0.3335, time 22069.44ms, mfu 2.27%\n",
            "iter 3510: loss 0.3167, time 202.19ms, mfu 2.30%\n",
            "iter 3520: loss 0.3138, time 201.97ms, mfu 2.33%\n",
            "iter 3530: loss 0.3344, time 201.74ms, mfu 2.35%\n",
            "iter 3540: loss 0.3436, time 202.67ms, mfu 2.37%\n",
            "iter 3550: loss 0.3215, time 202.95ms, mfu 2.39%\n",
            "iter 3560: loss 0.3158, time 203.87ms, mfu 2.40%\n",
            "iter 3570: loss 0.2997, time 203.46ms, mfu 2.41%\n",
            "iter 3580: loss 0.2921, time 200.45ms, mfu 2.43%\n",
            "iter 3590: loss 0.3348, time 204.32ms, mfu 2.44%\n",
            "iter 3600: loss 0.3068, time 202.39ms, mfu 2.45%\n",
            "iter 3610: loss 0.3051, time 202.25ms, mfu 2.46%\n",
            "iter 3620: loss 0.2754, time 201.84ms, mfu 2.47%\n",
            "iter 3630: loss 0.2862, time 202.29ms, mfu 2.48%\n",
            "iter 3640: loss 0.3064, time 203.57ms, mfu 2.48%\n",
            "iter 3650: loss 0.3170, time 203.49ms, mfu 2.49%\n",
            "iter 3660: loss 0.2583, time 202.78ms, mfu 2.49%\n",
            "iter 3670: loss 0.3049, time 202.28ms, mfu 2.50%\n",
            "iter 3680: loss 0.2728, time 204.23ms, mfu 2.50%\n",
            "iter 3690: loss 0.2792, time 203.89ms, mfu 2.50%\n",
            "iter 3700: loss 0.3017, time 203.35ms, mfu 2.51%\n",
            "iter 3710: loss 0.3060, time 203.03ms, mfu 2.51%\n",
            "iter 3720: loss 0.2679, time 203.46ms, mfu 2.51%\n",
            "iter 3730: loss 0.3053, time 202.24ms, mfu 2.52%\n",
            "iter 3740: loss 0.2755, time 202.96ms, mfu 2.52%\n",
            "step 3750: train loss 0.1064, val loss 8.8025\n",
            "saving checkpoint to out\n",
            "iter 3750: loss 0.3168, time 22037.76ms, mfu 2.27%\n",
            "iter 3760: loss 0.2897, time 201.24ms, mfu 2.30%\n",
            "iter 3770: loss 0.2860, time 200.27ms, mfu 2.33%\n",
            "iter 3780: loss 0.2800, time 202.69ms, mfu 2.35%\n",
            "iter 3790: loss 0.2765, time 204.50ms, mfu 2.36%\n",
            "iter 3800: loss 0.2794, time 202.43ms, mfu 2.38%\n",
            "iter 3810: loss 0.3091, time 202.31ms, mfu 2.40%\n",
            "iter 3820: loss 0.2846, time 200.66ms, mfu 2.42%\n",
            "iter 3830: loss 0.2753, time 202.80ms, mfu 2.43%\n",
            "iter 3840: loss 0.2715, time 204.11ms, mfu 2.44%\n",
            "iter 3850: loss 0.2715, time 202.33ms, mfu 2.45%\n",
            "iter 3860: loss 0.2687, time 203.19ms, mfu 2.46%\n",
            "iter 3870: loss 0.2590, time 202.88ms, mfu 2.47%\n",
            "iter 3880: loss 0.2914, time 203.37ms, mfu 2.47%\n",
            "iter 3890: loss 0.2683, time 204.35ms, mfu 2.48%\n",
            "iter 3900: loss 0.3013, time 205.36ms, mfu 2.48%\n",
            "iter 3910: loss 0.2276, time 202.81ms, mfu 2.49%\n",
            "iter 3920: loss 0.2602, time 203.71ms, mfu 2.49%\n",
            "iter 3930: loss 0.2490, time 200.42ms, mfu 2.50%\n",
            "iter 3940: loss 0.2393, time 204.17ms, mfu 2.50%\n",
            "iter 3950: loss 0.2434, time 201.29ms, mfu 2.51%\n",
            "iter 3960: loss 0.2570, time 202.76ms, mfu 2.51%\n",
            "iter 3970: loss 0.2666, time 202.05ms, mfu 2.52%\n",
            "iter 3980: loss 0.2735, time 202.64ms, mfu 2.52%\n",
            "iter 3990: loss 0.2613, time 203.32ms, mfu 2.52%\n",
            "step 4000: train loss 0.0976, val loss 8.8930\n",
            "saving checkpoint to out\n",
            "iter 4000: loss 0.2707, time 22022.79ms, mfu 2.27%\n",
            "iter 4010: loss 0.2612, time 202.14ms, mfu 2.30%\n",
            "iter 4020: loss 0.2522, time 202.66ms, mfu 2.32%\n",
            "iter 4030: loss 0.2742, time 202.41ms, mfu 2.35%\n",
            "iter 4040: loss 0.2479, time 202.14ms, mfu 2.37%\n",
            "iter 4050: loss 0.2326, time 202.53ms, mfu 2.38%\n",
            "iter 4060: loss 0.2626, time 200.69ms, mfu 2.40%\n",
            "iter 4070: loss 0.2280, time 202.07ms, mfu 2.42%\n",
            "iter 4080: loss 0.2330, time 201.26ms, mfu 2.43%\n",
            "iter 4090: loss 0.2394, time 203.19ms, mfu 2.44%\n",
            "iter 4100: loss 0.2589, time 203.32ms, mfu 2.45%\n",
            "iter 4110: loss 0.2472, time 202.11ms, mfu 2.46%\n",
            "iter 4120: loss 0.2417, time 202.57ms, mfu 2.47%\n",
            "iter 4130: loss 0.2294, time 203.54ms, mfu 2.48%\n",
            "iter 4140: loss 0.2371, time 202.13ms, mfu 2.48%\n",
            "iter 4150: loss 0.2250, time 202.26ms, mfu 2.49%\n",
            "iter 4160: loss 0.2523, time 203.74ms, mfu 2.49%\n",
            "iter 4170: loss 0.2355, time 202.57ms, mfu 2.50%\n",
            "iter 4180: loss 0.2530, time 203.54ms, mfu 2.50%\n",
            "iter 4190: loss 0.2166, time 203.39ms, mfu 2.51%\n",
            "iter 4200: loss 0.2575, time 201.36ms, mfu 2.51%\n",
            "iter 4210: loss 0.2251, time 200.49ms, mfu 2.52%\n",
            "iter 4220: loss 0.2216, time 202.30ms, mfu 2.52%\n",
            "iter 4230: loss 0.2485, time 202.56ms, mfu 2.52%\n",
            "iter 4240: loss 0.2372, time 202.28ms, mfu 2.52%\n",
            "step 4250: train loss 0.0893, val loss 8.9915\n",
            "saving checkpoint to out\n",
            "iter 4250: loss 0.2427, time 22040.35ms, mfu 2.27%\n",
            "iter 4260: loss 0.2467, time 200.51ms, mfu 2.30%\n",
            "iter 4270: loss 0.2272, time 201.54ms, mfu 2.33%\n",
            "iter 4280: loss 0.2262, time 202.39ms, mfu 2.35%\n",
            "iter 4290: loss 0.2140, time 203.45ms, mfu 2.37%\n",
            "iter 4300: loss 0.2114, time 199.83ms, mfu 2.39%\n",
            "iter 4310: loss 0.2081, time 203.44ms, mfu 2.40%\n",
            "iter 4320: loss 0.2085, time 200.54ms, mfu 2.42%\n",
            "iter 4330: loss 0.2280, time 202.92ms, mfu 2.43%\n",
            "iter 4340: loss 0.2075, time 201.36ms, mfu 2.45%\n",
            "iter 4350: loss 0.2040, time 203.45ms, mfu 2.45%\n",
            "iter 4360: loss 0.2326, time 202.56ms, mfu 2.46%\n",
            "iter 4370: loss 0.2130, time 201.13ms, mfu 2.47%\n",
            "iter 4380: loss 0.2397, time 204.20ms, mfu 2.48%\n",
            "iter 4390: loss 0.1982, time 202.12ms, mfu 2.49%\n",
            "iter 4400: loss 0.2366, time 203.46ms, mfu 2.49%\n",
            "iter 4410: loss 0.2368, time 202.40ms, mfu 2.50%\n",
            "iter 4420: loss 0.2249, time 199.88ms, mfu 2.50%\n",
            "iter 4430: loss 0.2327, time 203.43ms, mfu 2.51%\n",
            "iter 4440: loss 0.2043, time 202.55ms, mfu 2.51%\n",
            "iter 4450: loss 0.2356, time 201.22ms, mfu 2.52%\n",
            "iter 4460: loss 0.2129, time 202.41ms, mfu 2.52%\n",
            "iter 4470: loss 0.2089, time 201.75ms, mfu 2.52%\n",
            "iter 4480: loss 0.1942, time 199.57ms, mfu 2.53%\n",
            "iter 4490: loss 0.2181, time 204.78ms, mfu 2.53%\n",
            "step 4500: train loss 0.0817, val loss 9.0551\n",
            "saving checkpoint to out\n",
            "iter 4500: loss 0.2196, time 22092.51ms, mfu 2.28%\n",
            "iter 4510: loss 0.2256, time 202.61ms, mfu 2.30%\n",
            "iter 4520: loss 0.2224, time 204.48ms, mfu 2.33%\n",
            "iter 4530: loss 0.1882, time 202.95ms, mfu 2.35%\n",
            "iter 4540: loss 0.1874, time 203.33ms, mfu 2.37%\n",
            "iter 4550: loss 0.2064, time 202.50ms, mfu 2.38%\n",
            "iter 4560: loss 0.2189, time 202.18ms, mfu 2.40%\n",
            "iter 4570: loss 0.1844, time 204.31ms, mfu 2.41%\n",
            "iter 4580: loss 0.2414, time 202.54ms, mfu 2.43%\n",
            "iter 4590: loss 0.2068, time 203.61ms, mfu 2.44%\n",
            "iter 4600: loss 0.1891, time 202.18ms, mfu 2.45%\n",
            "iter 4610: loss 0.2103, time 202.52ms, mfu 2.46%\n",
            "iter 4620: loss 0.2095, time 202.11ms, mfu 2.47%\n",
            "iter 4630: loss 0.1942, time 201.75ms, mfu 2.48%\n",
            "iter 4640: loss 0.2196, time 203.41ms, mfu 2.48%\n",
            "iter 4650: loss 0.1930, time 202.18ms, mfu 2.49%\n",
            "iter 4660: loss 0.1946, time 204.18ms, mfu 2.49%\n",
            "iter 4670: loss 0.2203, time 200.74ms, mfu 2.50%\n",
            "iter 4680: loss 0.1912, time 202.90ms, mfu 2.50%\n",
            "iter 4690: loss 0.2035, time 202.15ms, mfu 2.51%\n",
            "iter 4700: loss 0.1920, time 204.57ms, mfu 2.51%\n",
            "iter 4710: loss 0.2047, time 203.05ms, mfu 2.51%\n",
            "iter 4720: loss 0.2023, time 203.81ms, mfu 2.51%\n",
            "iter 4730: loss 0.1850, time 202.51ms, mfu 2.52%\n",
            "iter 4740: loss 0.2163, time 202.80ms, mfu 2.52%\n",
            "step 4750: train loss 0.0784, val loss 9.1007\n",
            "saving checkpoint to out\n",
            "iter 4750: loss 0.1988, time 22092.01ms, mfu 2.27%\n",
            "iter 4760: loss 0.1950, time 203.28ms, mfu 2.30%\n",
            "iter 4770: loss 0.2033, time 202.26ms, mfu 2.32%\n",
            "iter 4780: loss 0.1886, time 203.16ms, mfu 2.34%\n",
            "iter 4790: loss 0.1918, time 201.70ms, mfu 2.36%\n",
            "iter 4800: loss 0.2031, time 201.20ms, mfu 2.38%\n",
            "iter 4810: loss 0.1938, time 202.43ms, mfu 2.40%\n",
            "iter 4820: loss 0.2101, time 203.92ms, mfu 2.41%\n",
            "iter 4830: loss 0.1783, time 203.04ms, mfu 2.43%\n",
            "iter 4840: loss 0.1892, time 202.07ms, mfu 2.44%\n",
            "iter 4850: loss 0.1983, time 202.51ms, mfu 2.45%\n",
            "iter 4860: loss 0.1761, time 200.80ms, mfu 2.46%\n",
            "iter 4870: loss 0.2008, time 202.33ms, mfu 2.47%\n",
            "iter 4880: loss 0.1872, time 203.27ms, mfu 2.48%\n",
            "iter 4890: loss 0.2055, time 201.59ms, mfu 2.48%\n",
            "iter 4900: loss 0.2007, time 199.22ms, mfu 2.49%\n",
            "iter 4910: loss 0.1666, time 201.33ms, mfu 2.50%\n",
            "iter 4920: loss 0.2065, time 199.87ms, mfu 2.51%\n",
            "iter 4930: loss 0.2048, time 202.96ms, mfu 2.51%\n",
            "iter 4940: loss 0.1755, time 204.16ms, mfu 2.51%\n",
            "iter 4950: loss 0.2044, time 201.80ms, mfu 2.52%\n",
            "iter 4960: loss 0.1966, time 201.93ms, mfu 2.52%\n",
            "iter 4970: loss 0.1897, time 206.02ms, mfu 2.52%\n",
            "iter 4980: loss 0.1835, time 201.86ms, mfu 2.52%\n",
            "iter 4990: loss 0.1864, time 202.11ms, mfu 2.53%\n",
            "step 5000: train loss 0.0751, val loss 9.1684\n",
            "saving checkpoint to out\n",
            "iter 5000: loss 0.2020, time 22149.86ms, mfu 2.27%\n"
          ]
        }
      ]
    },
    {
      "cell_type": "markdown",
      "source": [
        "## Generating Outputs with our New Model\n",
        "\n",
        "Now we can leverage the `sample.py` file to generate outputs from our model!"
      ],
      "metadata": {
        "id": "L2J5JlRxFJOM"
      }
    },
    {
      "cell_type": "markdown",
      "source": [
        "### Generation Set Up and Model Loading"
      ],
      "metadata": {
        "id": "eo_QP1ITFfX2"
      }
    },
    {
      "cell_type": "code",
      "source": [
        "import os\n",
        "import pickle\n",
        "from contextlib import nullcontext\n",
        "import torch\n",
        "import tiktoken\n",
        "from model import GPTConfig, GPT\n",
        "\n",
        "# -----------------------------------------------------------------------------\n",
        "init_from = 'resume' # either 'resume' (from an out_dir) or a gpt2 variant (e.g. 'gpt2-xl')\n",
        "out_dir = 'out' # ignored if init_from is not 'resume'\n",
        "start = \"\\n\" # or \"<|endoftext|>\" or etc. Can also specify a file, use as: \"FILE:prompt.txt\"\n",
        "num_samples = 10 # number of samples to draw\n",
        "max_new_tokens = 500 # number of tokens generated in each sample\n",
        "temperature = 0.8 # 1.0 = no change, < 1.0 = less random, > 1.0 = more random, in predictions\n",
        "top_k = 200 # retain only the top_k most likely tokens, clamp others to have 0 probability\n",
        "seed = 1337\n",
        "device = 'cuda' # examples: 'cpu', 'cuda', 'cuda:0', 'cuda:1', etc.\n",
        "dtype = 'bfloat16' if torch.cuda.is_available() and torch.cuda.is_bf16_supported() else 'float16' # 'float32' or 'bfloat16' or 'float16'\n",
        "compile = False # use PyTorch 2.0 to compile the model to be faster\n",
        "# -----------------------------------------------------------------------------\n",
        "\n",
        "torch.manual_seed(seed)\n",
        "torch.cuda.manual_seed(seed)\n",
        "torch.backends.cuda.matmul.allow_tf32 = True # allow tf32 on matmul\n",
        "torch.backends.cudnn.allow_tf32 = True # allow tf32 on cudnn\n",
        "device_type = 'cuda' if 'cuda' in device else 'cpu' # for later use in torch.autocast\n",
        "ptdtype = {'float32': torch.float32, 'bfloat16': torch.bfloat16, 'float16': torch.float16}[dtype]\n",
        "ctx = nullcontext() if device_type == 'cpu' else torch.amp.autocast(device_type=device_type, dtype=ptdtype)"
      ],
      "metadata": {
        "id": "-vftqU9LheEK"
      },
      "execution_count": null,
      "outputs": []
    },
    {
      "cell_type": "code",
      "source": [
        "# model\n",
        "if init_from == 'resume':\n",
        "    # init from a model saved in a specific directory\n",
        "    ckpt_path = os.path.join(out_dir, 'ckpt.pt')\n",
        "    checkpoint = torch.load(ckpt_path, map_location=device)\n",
        "    gptconf = GPTConfig(**checkpoint['model_args'])\n",
        "    model = GPT(gptconf)\n",
        "    state_dict = checkpoint['model']\n",
        "    unwanted_prefix = '_orig_mod.'\n",
        "    for k,v in list(state_dict.items()):\n",
        "        if k.startswith(unwanted_prefix):\n",
        "            state_dict[k[len(unwanted_prefix):]] = state_dict.pop(k)\n",
        "    model.load_state_dict(state_dict)"
      ],
      "metadata": {
        "colab": {
          "base_uri": "https://localhost:8080/"
        },
        "id": "FQRB3j7iiNkl",
        "outputId": "f9efa62a-b0ed-4941-e28f-54280190cb72"
      },
      "execution_count": null,
      "outputs": [
        {
          "output_type": "stream",
          "name": "stdout",
          "text": [
            "number of parameters: 29.55M\n"
          ]
        }
      ]
    },
    {
      "cell_type": "code",
      "source": [
        "model.eval()\n",
        "model.to(device)\n",
        "if compile:\n",
        "    model = torch.compile(model) # requires PyTorch 2.0 (optional)"
      ],
      "metadata": {
        "id": "N1YAy8DriVZZ"
      },
      "execution_count": null,
      "outputs": []
    },
    {
      "cell_type": "code",
      "source": [
        "enc = tokenizer\n",
        "encode = lambda s: enc.encode(s)\n",
        "decode = lambda l: enc.decode(l)"
      ],
      "metadata": {
        "id": "KoB-5ZuLicAT"
      },
      "execution_count": null,
      "outputs": []
    },
    {
      "cell_type": "markdown",
      "source": [
        "### Generation!"
      ],
      "metadata": {
        "id": "mkTQ9wo7FjYU"
      }
    },
    {
      "cell_type": "code",
      "source": [
        "# encode the beginning of the prompt\n",
        "if start.startswith('FILE:'):\n",
        "    with open(start[5:], 'r', encoding='utf-8') as f:\n",
        "        start = f.read()\n",
        "start_ids = encode(start)\n",
        "x = (torch.tensor(start_ids, dtype=torch.long, device=device)[None, ...])\n",
        "\n",
        "# run generation\n",
        "with torch.no_grad():\n",
        "    with ctx:\n",
        "        for k in range(num_samples):\n",
        "            y = model.generate(x, max_new_tokens, temperature=temperature, top_k=top_k)\n",
        "            print(decode(y[0].tolist()))\n",
        "            print('---------------')"
      ],
      "metadata": {
        "colab": {
          "base_uri": "https://localhost:8080/"
        },
        "id": "NmTcaHCjii5l",
        "outputId": "0672880d-f82b-41a5-f8f0-a38578c097d8"
      },
      "execution_count": null,
      "outputs": [
        {
          "output_type": "stream",
          "name": "stdout",
          "text": [
            "\n",
            "And therefore, then in England's king:\n",
            "In Margaret, Henry now may repossess the crown.\n",
            "\n",
            "KING EDWARD IV:\n",
            "Now am I king, if Lewis and thine.\n",
            "\n",
            "You'll sit you offended too?\n",
            "\n",
            "GLOUCESTER:\n",
            "\n",
            "KING EDWARD IV:\n",
            "Why, then am I:\n",
            "LADY GREY:\n",
            "Why stops my loving sovereign,\n",
            "That thou not hear my dower;\n",
            "For by that loss I will not purchase them.\n",
            "\n",
            "KING EDWARD IV:\n",
            "Therein thou wrong'st thy children mightily.\n",
            "\n",
            "GLOUCESTER:\n",
            "Herein your highness wrongs both them and me.\n",
            "\n",
            "KING EDWARD IV:\n",
            "But stay thee, mighty lord, this widow's wit.\n",
            "\n",
            "GLOUCESTER:\n",
            "\n",
            "\n",
            "CLARENCE:\n",
            "\n",
            "KING EDWARD IV:\n",
            "Widow, we'll try this lands.\n",
            "\n",
            "LADY GREY:\n",
            "Right gracious lord, I cannot brook delay:\n",
            "May it please your highness to resolve me now;\n",
            "And what your pleasure is, shall satisfy me.\n",
            "\n",
            "GLOUCESTER:\n",
            "\n",
            "CLARENCE:\n",
            "\n",
            "GLOUCESTER:\n",
            "KING EDWARD IV:\n",
            "How many children hast thou, widow? tell me.\n",
            "\n",
            "CLARENCE:\n",
            "\n",
            "GLOUCESTER:\n",
            "\n",
            "LADY GREY:\n",
            "Three, my most gracious lord.\n",
            "\n",
            "GLOUCESTER:\n",
            "\n",
            "KING EDWARD IV:\n",
            "'Twere pity they should lose their father's lands.\n",
            "\n",
            "LADY GREY:\n",
            "Be pitiful, dread lord, and grant it then.\n",
            "\n",
            "KING EDWARD IV:\n",
            "Lords, give us leave: I'll try this widow's wit.\n",
            "\n",
            "GLOUCESTER:\n",
            "\n",
            "\n",
            "KING EDWARD IV:\n",
            "Now tell me, madam, do you love your children?\n",
            "\n",
            "LADY GREY:\n",
            "Ay, full as dearly as I love myself.\n",
            "\n",
            "KING EDWARD IV:\n",
            "And would you not do much to do them good?\n",
            "\n",
            "LADY GREY:\n",
            "To do them good, I would sustain some harm.\n",
            "\n",
            "KING EDWARD IV:\n",
            "Then get your husband's lands, to do them good.\n",
            "\n",
            "LADY GREY:\n",
            "Therefore I came unto your majesty.\n",
            "\n",
            "KING EDWARD IV:\n",
            "I'll tell you how these lands are to be got.\n",
            "\n",
            "\n",
            "---------------\n",
            "\n",
            "JULIET:\n",
            "Romeo, anon! what o'clock?\n",
            "\n",
            "ROMEO:\n",
            "At the hour of nine.\n",
            "\n",
            "JULIET:\n",
            "I will not fail: 'tis twenty years till then.\n",
            "I have forgot why I did call thee back.\n",
            "\n",
            "ROMEO:\n",
            "Let me stand here till thou remember it.\n",
            "\n",
            "JULIET:\n",
            "I shall forget, to have thee still stand there,\n",
            "Remembering how I love thy company.\n",
            "\n",
            "ROMEO:\n",
            "And I'll still stay, to have thee still forget,\n",
            "Forgetting any other home but this.\n",
            "\n",
            "JULIET:\n",
            "'Tis almost morning; I would have thee gone:\n",
            "And yet no further than a wanton's bird;\n",
            "Who lets it hop a little from her hand,\n",
            "Like a poor prisoner in his twisted gyves,\n",
            "And with a silk thread plucks it back again,\n",
            "So loving-jealous of his liberty.\n",
            "\n",
            "ROMEO:\n",
            "I would I were thy bird.\n",
            "\n",
            "JULIET:\n",
            "Sweet, so would I:\n",
            "Yet I should kill thee with much cherishing.\n",
            "Good night, good night! parting is such\n",
            "sweet sorrow,\n",
            "That I shall say good night till it be morrow.\n",
            "\n",
            "ROMEO:\n",
            "Sleep dwell upon thine eyes, peace in thy breast!\n",
            "Would I were sleep and peace, so sweet to rest!\n",
            "Hence will I to my ghostly father's cell,\n",
            "His help to crave, and my dear hap to tell.\n",
            "\n",
            "FRIAR LAURENCE:\n",
            "The grey-eyed morn smiles on the frowning night,\n",
            "Chequering the eastern clouds with streaks of light,\n",
            "And flecked darkness like a drunkard reels\n",
            "From forth day's path and Titan's fiery wheels:\n",
            "Now, ere the sun advance his burning eye,\n",
            "The day to cheer and night's dank dew to dry,\n",
            "I must up-fill this osier cage of ours\n",
            "With baleful weeds and precious-juiced flowers.\n",
            "The earth that's mother is her tomb;\n",
            "What is her burying grave that is her womb children of divers kind\n",
            "And from her womb children of divers kind\n",
            "We sucking on her natural bosom find,\n",
            "Many for many virtues excellent,\n",
            "None but for many virtues excellent,\n",
            "None but for some and yet all different\n",
            "---------------\n",
            "\n",
            "ISABELLA:\n",
            "The damned'st what hour poise of sin, let me bear it!\n",
            "Heaven let me bear it be sin, for charity.\n",
            "\n",
            "ANGELO:\n",
            "That I do beg his life, if it be sin,\n",
            "Heaven let me live.\n",
            "\n",
            "ISABELLA:\n",
            "I'll make it! you granting of my suit,\n",
            "If that be sin, I'll make it my morn prayer\n",
            "To have it added to the faults of mine,\n",
            "And nothing of your answer.\n",
            "\n",
            "ANGELO:\n",
            "Nay, but hear me.\n",
            "Your sense pursues not mine: either you are ignorant,\n",
            "Or seem so craftily; and that's not good.\n",
            "\n",
            "ISABELLA:\n",
            "Let me be ignorant, and in nothing good,\n",
            "But graciously to know I am no better.\n",
            "\n",
            "ANGELO:\n",
            "Thus wisdom wishes to appear most bright\n",
            "When it doth tax itself; as these black masks\n",
            "Proclaim an enshield beauty ten times louder\n",
            "Than beauty could, display'd. But mark me;\n",
            "To be received plain, I'll speak more gross:\n",
            "Your brother is to die.\n",
            "\n",
            "ISABELLA:\n",
            "So.\n",
            "\n",
            "ANGELO:\n",
            "And his offence is so, as it appears,\n",
            "Accountant to the law upon that pain.\n",
            "\n",
            "ISABELLA:\n",
            "True.\n",
            "\n",
            "ANGELO:\n",
            "Admit no other way to save his life,--\n",
            "As I subscribe not that, nor any other,\n",
            "But in the loss of question,--that you, his sister,\n",
            "Finding yourself desired of such a person,\n",
            "Whose credit with the judge, or own great place,\n",
            "Could fetch your brother from the manacles\n",
            "Of the all-building law; and that there were\n",
            "No earthly mean to save him, but that either\n",
            "You must lay down the treasures of your body\n",
            "To this supposed, or else to let him suffer;\n",
            "What would you do?\n",
            "\n",
            "ISABELLA:\n",
            "As much for my poor brother as myself:\n",
            "That is, were I under the terms of death,\n",
            "The impression of keen whips I'ld wear as rubies,\n",
            "And strip myself to a bed\n",
            "That longing have been sick for, ere I'ld yield\n",
            "My body up to shame.\n",
            "\n",
            "ANGE\n",
            "---------------\n",
            "\n",
            "\n",
            "KING RICHARD III:\n",
            "I am not at once forth to Richmond.\n",
            "\n",
            "BUCKINGHAM:\n",
            "Stirr I the stroke of ten thousand soldiers for the complete armour.\n",
            "Out on the adverse party fight;\n",
            "Whisper the spirits of thine enemies\n",
            "And promise them success and victory.\n",
            "Bloody thou art, bloody will be thy end;\n",
            "Shame serves thy life and doth thy death attend.\n",
            "\n",
            "QUEEN ELIZABETH:\n",
            "Though far more cause, yet much less spirit to curse\n",
            "Abides in me; I say amen to all.\n",
            "\n",
            "KING RICHARD III:\n",
            "Stay, madam; I must speak a word with you.\n",
            "\n",
            "QUEEN ELIZABETH:\n",
            "I have no more sons of the royal blood\n",
            "For thee to murder: for my daughters, Richard,\n",
            "They shall be praying nuns, not weeping queens;\n",
            "And therefore level not to hit their lives.\n",
            "\n",
            "KING RICHARD III:\n",
            "You have a daughter call'd Elizabeth,\n",
            "Virtuous and fair, royal and gracious.\n",
            "\n",
            "QUEEN ELIZABETH:\n",
            "And must she die for this? O, let her live,\n",
            "And I'll corrupt her manners, stain her beauty;\n",
            "Slander myself as false to Edward's bed;\n",
            "Throw over her the veil of infamy:\n",
            "So she may live unscarr'd of bleeding slaughter,\n",
            "I will confess she was not Edward's daughter.\n",
            "\n",
            "KING RICHARD III:\n",
            "Wrong not her birth, she is of royal blood.\n",
            "\n",
            "QUEEN ELIZABETH:\n",
            "To save her life, I'll say she is not so.\n",
            "\n",
            "KING RICHARD III:\n",
            "Her life is only safest in her birth.\n",
            "\n",
            "QUEEN ELIZABETH:\n",
            "And only in that safety died her brothers.\n",
            "\n",
            "KING RICHARD III:\n",
            "Lo, at their births good stars were opposite.\n",
            "\n",
            "QUEEN ELIZABETH:\n",
            "No, to their lives bad friends were contrary.\n",
            "\n",
            "KING RICHARD III:\n",
            "All unavoided is the doom of destiny.\n",
            "\n",
            "QUEEN ELIZABETH:\n",
            "True, when avoided grace makes destiny:\n",
            "My babes were destined to a fairer death,\n",
            "If grace had bless'd thee with a fairer life.\n",
            "\n",
            "KING RICHARD III:\n",
            "You speak as if that I had slain my cousins.\n",
            "\n",
            "QUEEN ELIZABETH:\n",
            "Cousins, indeed; and by their uncle cozen'd\n",
            "Of comfort,\n",
            "---------------\n",
            "\n",
            "\n",
            "JULIET:\n",
            "I do not know his meet again.\n",
            "\n",
            "ROMEO:\n",
            "Ah, I'll still stay, for 'tis twenty years till thou wilt perform for thy love.\n",
            "Love goes, and I would my sin.\n",
            "\n",
            "JULIET:\n",
            "And I come, anon.--But if thou mean'st, I come:--\n",
            "To cease thy suit, and leave me to my grief:\n",
            "To-morrow will I send.\n",
            "\n",
            "ROMEO:\n",
            "So thrive my soul--\n",
            "\n",
            "JULIET:\n",
            "A thousand times good night!\n",
            "\n",
            "ROMEO:\n",
            "A thousand times the worse, to want thy light.\n",
            "Love goes toward love, as schoolboys from\n",
            "their books,\n",
            "But love from love, toward school with heavy looks.\n",
            "\n",
            "JULIET:\n",
            "Hist! Romeo, hist! O, for a falconer's voice,\n",
            "To lure this tassel-gentle back again!\n",
            "Bondage is hoarse, and may not speak aloud;\n",
            "Else would I tear the cave where Echo lies,\n",
            "And make her airy tongue more hoarse than mine,\n",
            "With repetition of my Romeo's name.\n",
            "\n",
            "ROMEO:\n",
            "It is my soul that calls upon my name:\n",
            "How silver-sweet sound lovers' tongues by night,\n",
            "Like softest music to attending ears!\n",
            "\n",
            "JULIET:\n",
            "Romeo!\n",
            "\n",
            "ROMEO:\n",
            "My dear?\n",
            "\n",
            "JULIET:\n",
            "At what o'clock to-morrow\n",
            "Shall I send to thee?\n",
            "\n",
            "ROMEO:\n",
            "At the hour of nine.\n",
            "\n",
            "JULIET:\n",
            "I will not fail: 'tis twenty years till then.\n",
            "I have forgot why I did call thee back.\n",
            "\n",
            "ROMEO:\n",
            "Let me stand here till thou remember it.\n",
            "\n",
            "JULIET:\n",
            "I shall forget, to have thee still stand there,\n",
            "Remembering how I love thy company.\n",
            "\n",
            "ROMEO:\n",
            "And I'll still stay, to have thee still forget,\n",
            "Forgetting any other home but this.\n",
            "\n",
            "JULIET:\n",
            "'Tis almost morning; I would have thee gone:\n",
            "And yet no further than a wanton's bird;\n",
            "Who lets it hop a little from her hand,\n",
            "Like a poor prisoner in his twisted gyves\n",
            "---------------\n",
            "\n",
            "If you dwell upon this so ill, that you depart.\n",
            "\n",
            "KING RICHARD II:\n",
            "Then thus I must not be mine enemy:--\n",
            "Which you break the disease: this:\n",
            "That Mowbray's death, and it is to weep;\n",
            "And, true king shall be satisfied,\n",
            "Say, ourselves in the Duke of Norfolk,\n",
            "To swear, and all rest of Norfolk,\n",
            "And formally, according to our law.\n",
            "\n",
            "Lord Marshal:\n",
            "Harry of Norfolk, Lancaster and Derby\n",
            "Stands he is thy quarrel; who ready here do stand in person,\n",
            "To prove, his oath and to set forward to fight:\n",
            "And dares him to the fight.\n",
            "\n",
            "Second Herald:\n",
            "Here standeth Thomas Mowbray, Duke of Norfolk,\n",
            "On pain to be found false and recreant,\n",
            "Both to defend himself and to approve\n",
            "Henry of Hereford, Lancaster, and Derby,\n",
            "To God, his sovereign and to him disloyal;\n",
            "Courageously and with a free desire\n",
            "Atttttttttttending but the signal to begin.\n",
            "\n",
            "Lord Marshal:\n",
            "Sound, trumpets; and set forward, combatants.\n",
            "Stay, the king hath thrown his warder down.\n",
            "\n",
            "KING RICHARD II:\n",
            "Let them lay by their helmets and their spears,\n",
            "And both return back to their chairs again:\n",
            "Withdraw with us: and let the trumpets sound\n",
            "While we return these dukes what we decree.\n",
            "Draw near,\n",
            "And list what with our council we have done.\n",
            "For that our kingdom's earth should not be soil'd\n",
            "With that dear blood which it hath fostered;\n",
            "And for our eyes do hate the dire aspect\n",
            "Of civil wounds plough'd up with neighbours' sword;\n",
            "And for we think the eagle-winged pride\n",
            "Of sky-aspiring and ambitious thoughts,\n",
            "With rival-hating envy, set on you\n",
            "To wake our peace, which in our country's cradle\n",
            "Draws the sweet infant breath of gentle sleep;\n",
            "Which so roused up with boisterous untuned drums,\n",
            "With harsh resounding trumpets' dreadful bray,\n",
            "And grating shock of wrathful iron arms,\n",
            "Might from our quiet confines fright fair peace\n",
            "And make us wade even in our kindred's blood,\n",
            "Therefore, we banish you\n",
            "---------------\n",
            "\n",
            "The slave, and we ordained festival,\n",
            "To hear them both to black funeral;\n",
            "Our by to a sad burial feast,\n",
            "Our solemn hymns to sullen dirges change,\n",
            "Our bridal flowers serve for a buried corse,\n",
            "And all things change them to the contrary.\n",
            "\n",
            "FRIAR LAURENCE:\n",
            "Sir, go you in; and, madam, go with him;\n",
            "And go, Sir Paris; every one prepare\n",
            "To follow this fair corse unto her grave:\n",
            "The heavens do lour upon you for some ill;\n",
            "Move them no more by crossing their high will.\n",
            "\n",
            "First Musician:\n",
            "Faith, we may put up our pipes, and be gone.\n",
            "\n",
            "Nurse:\n",
            "Honest goodfellows, ah, put up, put up,\n",
            "For, well you know, this is a pitiful case.\n",
            "\n",
            "First Musician:\n",
            "Ay, by my troth, the case may be amended.\n",
            "\n",
            "PETER:\n",
            "Musicians, O, musicians, Heart's\n",
            "ease:' O, an you will have me live, play 'Heart's ease.'\n",
            "\n",
            "First Musician:\n",
            "Why 'Heart's ease?'\n",
            "\n",
            "PETER:\n",
            "O, musicians, because my heart itself plays 'My\n",
            "heart is full of woe:' O, play me some merry dump,\n",
            "to comfort me.\n",
            "\n",
            "First Musician:\n",
            "Not a dump we; 'tis no time to play now.\n",
            "\n",
            "PETER:\n",
            "You will not, then?\n",
            "\n",
            "First Musician:\n",
            "No.\n",
            "\n",
            "PETER:\n",
            "I will then give it you soundly.\n",
            "\n",
            "First Musician:\n",
            "What will you give us?\n",
            "\n",
            "PETER:\n",
            "No money, on my faith, but the gleek;\n",
            "I will give you the minstrel.\n",
            "\n",
            "First Musician:\n",
            "Then I will give you the serving-creature's dagger on\n",
            "your pate. I will carry no crotchets: I'll re you,\n",
            "I'll fa you; do you note me?\n",
            "\n",
            "First Musician:\n",
            "An you re us and fa us, you note us.\n",
            "\n",
            "Second Musician:\n",
            "Pray you, put up your dagger, and put out your wit.\n",
            "\n",
            "PETER:\n",
            "Then have at you with my wit! I will dry-beat you\n",
            "with an iron dagger. Answer\n",
            "me like men:\n",
            "'When griping grief the\n",
            "---------------\n",
            "\n",
            "I could not, that, or never think, I in a gift of the sword,\n",
            "And that he could to him.\n",
            "\n",
            "EDWARD:\n",
            "But thou not thou tear the palace is thy sire nor dam;\n",
            "And, ten to the issue out such a sail, to strike to thee.\n",
            "\n",
            "QUEEN MARGARET:\n",
            "'Tis even so, I'll strike now,\n",
            "As shall I strike thee.\n",
            "\n",
            "WARWICK:\n",
            "Why then, thy reward,\n",
            "To strike now, and Edward's head is warm and he\n",
            ".\n",
            "\n",
            "KING HENRY VI:\n",
            "In God's messenger, where is England's royal throne,\n",
            "This pretty lad will fill'd,\n",
            "Write in his moan.\n",
            "\n",
            "WARWICK:\n",
            "What Clarence is alter'd:\n",
            "My brother, but weeps and weeps,\n",
            "And now falls on his that did I\n",
            "Was crown'd: and so;\n",
            "And so I so 'tis a king, for Tybalt,\n",
            "Who in a poor earl to me again.\n",
            "\n",
            "SOMERSET:\n",
            "If so?\n",
            "\n",
            "KING EDWARD IV:\n",
            "But you partly may, was a wife.\n",
            "\n",
            "GLOUCESTER:\n",
            "When I had rather;\n",
            "But you have your prisoner to the Tower:\n",
            "My brother king,\n",
            "And go we are two!\n",
            "\n",
            "KING EDWARD IV:\n",
            "Yea, brother Richard, are you offended too?\n",
            "\n",
            "GLOUCESTER:\n",
            "Not I had so much is now; but, Warwick's,\n",
            "And Warwick's, do thee so much before.\n",
            "\n",
            "GLOUCESTER:\n",
            "Yes, when I shall.\n",
            "\n",
            "KING EDWARD IV:\n",
            "'Twas you partly may perceive my mind.\n",
            "\n",
            "GLOUCESTER:\n",
            "\n",
            "KING EDWARD IV:\n",
            "Widow, we will consider'd.\n",
            "\n",
            "LADY GREY:\n",
            "Right gracious lord, I cannot brook delay:\n",
            "May it please your highness to resolve me now;\n",
            "And what your pleasure is, shall satisfy me.\n",
            "\n",
            "GLOUCESTER:\n",
            "\n",
            "GLOUCESTER:\n",
            "\n",
            "GLOUCESTER:\n",
            "\n",
            "KING EDWARD IV:\n",
            "How many children hast thou, widow? tell me.\n",
            "\n",
            "CLARENCE:\n",
            "\n",
            "GLOUCESTER:\n",
            "\n",
            "LADY GREY:\n",
            "Three, my most gracious lord.\n",
            "\n",
            "GLO\n",
            "---------------\n",
            "\n",
            "LEONTES:\n",
            "O course, stark mad!\n",
            "I think so, or old\n",
            "Not Polixenes, fool!\n",
            "But O thou art liege, one of all\n",
            "To have him that did but show's honour,\n",
            "Had been higher rear'd thee, say'st\n",
            "The ordering on't.\n",
            "\n",
            "LEONTES:\n",
            "A gross hag\n",
            "Thou dost not her husband'st not:\n",
            "That wilt not stay her tongue,\n",
            "And, lozel, thou art worthy to be hang'd,\n",
            "That wilt not stay her tongue.\n",
            "\n",
            "ANTIGONUS:\n",
            "Hang all the husbands\n",
            "That cannot do that feat, you'll leave yourself\n",
            "Hardly one subject.\n",
            "\n",
            "LEONTES:\n",
            "Once more, take her hence.\n",
            "\n",
            "PAULINA:\n",
            "A most unworthy and unnatural lord\n",
            "Can do no more.\n",
            "\n",
            "LEONTES:\n",
            "I'll ha' thee burnt.\n",
            "\n",
            "PAULINA:\n",
            "I care not:\n",
            "It is an heretic that makes the fire,\n",
            "Not she which burns in't. I'll not call you tyrant;\n",
            "But this most cruel usage of your queen,\n",
            "Not able to produce more accusation\n",
            "Than your own weak-hinged fancy, something savours\n",
            "Of tyranny and will ignoble make you,\n",
            "Yea, scandalous to the world.\n",
            "\n",
            "LEONTES:\n",
            "On your allegiance,\n",
            "Out of the chamber with her! Were I a tyrant,\n",
            "Where were her life? she durst not call me so,\n",
            "If she did know me one. Away with her!\n",
            "\n",
            "PAULINA:\n",
            "I pray you, do not push me; I'll be gone.\n",
            "Look to your babe, my lord; 'tis yours:\n",
            "Jove send her\n",
            "A better guiding spirit! What needs these hands?\n",
            "You, that are thus so tender o'er his follies,\n",
            "Will never do him good, not one of you.\n",
            "So, so: farewell; we are gone.\n",
            "\n",
            "LEONTES:\n",
            "Thou, traitor, hast set on thy wife to this.\n",
            "My child? away with't! Even thou, that hast\n",
            "A heart so tender o'er it, take it hence\n",
            "And see it instantly consumed with fire;\n",
            "Even thou and none but thou. Take it up straight:\n",
            "Within this hour bring me word 'tis done,\n",
            "And by good testimony\n",
            "---------------\n",
            "\n",
            "Not unlike, nor enemy, nor England's enemy,\n",
            "Can arbitrate this sky doth live in eternal plant,\n",
            "The smallest worm.\n",
            "The smallest worm will be a king,\n",
            "Whose father still thy bosom lies out,\n",
            "The sun sets, which grieves me!\n",
            "And with the lurking adder\n",
            "How it in thy sighs will hear\n",
            "Whose double tongue may with thy shame doth a mortal sting?\n",
            "Or as a mortal sting?\n",
            "His father bears of a sting?\n",
            "For to the climate's most angry angry soul\n",
            "His father bears,\n",
            "Nor than the climate's lives!\n",
            "Who, like a most unloving father.\n",
            "Under whose tender heart's face,\n",
            "And though man's face be fearful to a vow.\n",
            "Who, though man's face be seen them,\n",
            "Under whose heavy-blood, would the king\n",
            "Whose father fondly gave doth a king\n",
            "From forth thy reach at thy shame, that right drawn sword may enter Mowbray their eyes,\n",
            "Even in that doth grin,\n",
            "For one to thrust his teeth,\n",
            "When he might spurn him with his foot away?\n",
            "It is no foot away?\n",
            "Not to such a shame doth grin,\n",
            "For one to take all for his foot away,\n",
            "For one is war's prize to take all vantages;\n",
            "And ten to one is no impeach of valour.\n",
            "\n",
            "CLIFFORD:\n",
            "Ay, ay, so strives the woodcock with the gin.\n",
            "\n",
            "NORTHUMBERLAND:\n",
            "So doth the cony struggle in the net.\n",
            "\n",
            "YORK:\n",
            "So triumph thieves upon their conquer'd booty;\n",
            "So true men yield, with robbers so o'ermatch'd.\n",
            "\n",
            "NORTHUMBERLAND:\n",
            "What would your grace have done unto him now?\n",
            "\n",
            "QUEEN MARGARET:\n",
            "Brave warriors, Clifford and Northumberland,\n",
            "Come, make him stand upon this molehill here,\n",
            "That raught at mountains with outstretched arms,\n",
            "Yet parted but the shadow with his hand.\n",
            "What! was it you that would be England's king?\n",
            "Was't you that revell'd in our parliament,\n",
            "And made a preachment of your high descent?\n",
            "Where are your mess of sons to back you now?\n",
            "The wanton Edward, and the lusty George?\n",
            "And where's that valiant crook-back prodigy,\n",
            "Dicky your boy, that with his\n",
            "---------------\n"
          ]
        }
      ]
    }
  ]
}